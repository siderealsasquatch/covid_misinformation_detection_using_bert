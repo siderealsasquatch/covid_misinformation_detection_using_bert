{
 "cells": [
  {
   "cell_type": "markdown",
   "id": "36a109b5-2c9d-441d-8e46-8c3a82bfa525",
   "metadata": {},
   "source": [
    "# Load data"
   ]
  },
  {
   "cell_type": "code",
   "execution_count": 2,
   "id": "905eba17-ee99-4ed2-8435-63d3db1ce21d",
   "metadata": {},
   "outputs": [
    {
     "data": {
      "text/plain": [
       "MuminDataset(size=large, compiled=False, bearer_token_available=True)"
      ]
     },
     "execution_count": 2,
     "metadata": {},
     "output_type": "execute_result"
    }
   ],
   "source": [
    "from pathlib import Path\n",
    "from mumin import MuminDataset\n",
    "\n",
    "twitter_bearer_token = \"AAAAAAAAAAAAAAAAAAAAAPhBdwEAAAAA8960MaR6BTtd9CDUHrfi2uaxYpU%3DrCAua60sKetPNDXBJjOg0plfXrQiw54We4OLTuI7gcMkHwuXZY\"\n",
    "size=\"large\"\n",
    "dataset_file = f\"mumin-{size}_no-images.zip\"\n",
    "dataset_path = Path(\"data\") / dataset_file\n",
    "include_tweet_images = False\n",
    "dataset = MuminDataset(twitter_bearer_token=twitter_bearer_token, size=size, include_tweet_images=include_tweet_images, dataset_path=dataset_path)\n",
    "dataset"
   ]
  },
  {
   "cell_type": "code",
   "execution_count": 3,
   "id": "160f3908-b26a-463d-adc6-3c12911b6a0f",
   "metadata": {},
   "outputs": [
    {
     "name": "stderr",
     "output_type": "stream",
     "text": [
      "2022-07-01 13:24:55,178 [INFO] Loading dataset\n"
     ]
    },
    {
     "data": {
      "text/plain": [
       "MuminDataset(num_nodes=1,636,198, num_relations=2,394,768, size='large', compiled=True, bearer_token_available=True)"
      ]
     },
     "execution_count": 3,
     "metadata": {},
     "output_type": "execute_result"
    }
   ],
   "source": [
    "dataset.compile()"
   ]
  },
  {
   "cell_type": "markdown",
   "id": "a8097b46-e6a6-49fe-b32f-bc3311c011fb",
   "metadata": {},
   "source": [
    "# Get Tweets"
   ]
  },
  {
   "cell_type": "code",
   "execution_count": 4,
   "id": "0e51c0d9-0942-4230-b41d-40930f9b328c",
   "metadata": {},
   "outputs": [
    {
     "data": {
      "text/html": [
       "<div>\n",
       "<style scoped>\n",
       "    .dataframe tbody tr th:only-of-type {\n",
       "        vertical-align: middle;\n",
       "    }\n",
       "\n",
       "    .dataframe tbody tr th {\n",
       "        vertical-align: top;\n",
       "    }\n",
       "\n",
       "    .dataframe thead th {\n",
       "        text-align: right;\n",
       "    }\n",
       "</style>\n",
       "<table border=\"1\" class=\"dataframe\">\n",
       "  <thead>\n",
       "    <tr style=\"text-align: right;\">\n",
       "      <th></th>\n",
       "      <th>tweet_id</th>\n",
       "      <th>text</th>\n",
       "      <th>created_at</th>\n",
       "      <th>lang</th>\n",
       "      <th>source</th>\n",
       "      <th>num_retweets</th>\n",
       "      <th>num_replies</th>\n",
       "      <th>num_quote_tweets</th>\n",
       "    </tr>\n",
       "  </thead>\n",
       "  <tbody>\n",
       "    <tr>\n",
       "      <th>0</th>\n",
       "      <td>1243046281326534661</td>\n",
       "      <td>To keep our upper respiratory tract healthy in...</td>\n",
       "      <td>2020-03-26 05:25:02</td>\n",
       "      <td>en</td>\n",
       "      <td>Hootsuite Inc.</td>\n",
       "      <td>96</td>\n",
       "      <td>6</td>\n",
       "      <td>6</td>\n",
       "    </tr>\n",
       "    <tr>\n",
       "      <th>1</th>\n",
       "      <td>1243148522209161217</td>\n",
       "      <td>Gargling salt water does not 'kill' coronaviru...</td>\n",
       "      <td>2020-03-26 12:11:18</td>\n",
       "      <td>en</td>\n",
       "      <td>Twitter for iPhone</td>\n",
       "      <td>7</td>\n",
       "      <td>0</td>\n",
       "      <td>0</td>\n",
       "    </tr>\n",
       "    <tr>\n",
       "      <th>2</th>\n",
       "      <td>1238795119572049920</td>\n",
       "      <td>कॉरोना वायरस फेफड़ों में जाने से पहले तीन-चार ...</td>\n",
       "      <td>2020-03-14 11:52:26</td>\n",
       "      <td>hi</td>\n",
       "      <td>Twitter for Android</td>\n",
       "      <td>6</td>\n",
       "      <td>0</td>\n",
       "      <td>1</td>\n",
       "    </tr>\n",
       "    <tr>\n",
       "      <th>3</th>\n",
       "      <td>1238947475471454220</td>\n",
       "      <td>Antes de llegar a los pulmones dura 4 días en ...</td>\n",
       "      <td>2020-03-14 21:57:51</td>\n",
       "      <td>es</td>\n",
       "      <td>Twitter for Android</td>\n",
       "      <td>8</td>\n",
       "      <td>3</td>\n",
       "      <td>0</td>\n",
       "    </tr>\n",
       "    <tr>\n",
       "      <th>4</th>\n",
       "      <td>1239128401115516929</td>\n",
       "      <td>So they say the first symptons are #coughing\\n...</td>\n",
       "      <td>2020-03-15 09:56:47</td>\n",
       "      <td>en</td>\n",
       "      <td>Twitter for Android</td>\n",
       "      <td>10</td>\n",
       "      <td>2</td>\n",
       "      <td>1</td>\n",
       "    </tr>\n",
       "  </tbody>\n",
       "</table>\n",
       "</div>"
      ],
      "text/plain": [
       "              tweet_id                                               text  \\\n",
       "0  1243046281326534661  To keep our upper respiratory tract healthy in...   \n",
       "1  1243148522209161217  Gargling salt water does not 'kill' coronaviru...   \n",
       "2  1238795119572049920  कॉरोना वायरस फेफड़ों में जाने से पहले तीन-चार ...   \n",
       "3  1238947475471454220  Antes de llegar a los pulmones dura 4 días en ...   \n",
       "4  1239128401115516929  So they say the first symptons are #coughing\\n...   \n",
       "\n",
       "           created_at lang               source  num_retweets  num_replies  \\\n",
       "0 2020-03-26 05:25:02   en       Hootsuite Inc.            96            6   \n",
       "1 2020-03-26 12:11:18   en   Twitter for iPhone             7            0   \n",
       "2 2020-03-14 11:52:26   hi  Twitter for Android             6            0   \n",
       "3 2020-03-14 21:57:51   es  Twitter for Android             8            3   \n",
       "4 2020-03-15 09:56:47   en  Twitter for Android            10            2   \n",
       "\n",
       "   num_quote_tweets  \n",
       "0                 6  \n",
       "1                 0  \n",
       "2                 1  \n",
       "3                 0  \n",
       "4                 1  "
      ]
     },
     "execution_count": 4,
     "metadata": {},
     "output_type": "execute_result"
    }
   ],
   "source": [
    "tweet_df = dataset.nodes[\"tweet\"]\n",
    "tweet_df.dropna(inplace=True)\n",
    "tweet_df.head()"
   ]
  },
  {
   "cell_type": "code",
   "execution_count": 5,
   "id": "2f145ec5-3153-4230-ac11-883efd218944",
   "metadata": {},
   "outputs": [
    {
     "name": "stdout",
     "output_type": "stream",
     "text": [
      "<class 'pandas.core.frame.DataFrame'>\n",
      "Int64Index: 24536 entries, 0 to 24535\n",
      "Data columns (total 8 columns):\n",
      " #   Column            Non-Null Count  Dtype         \n",
      "---  ------            --------------  -----         \n",
      " 0   tweet_id          24536 non-null  uint64        \n",
      " 1   text              24536 non-null  object        \n",
      " 2   created_at        24536 non-null  datetime64[ns]\n",
      " 3   lang              24536 non-null  category      \n",
      " 4   source            24536 non-null  object        \n",
      " 5   num_retweets      24536 non-null  uint64        \n",
      " 6   num_replies       24536 non-null  uint64        \n",
      " 7   num_quote_tweets  24536 non-null  uint64        \n",
      "dtypes: category(1), datetime64[ns](1), object(2), uint64(4)\n",
      "memory usage: 1.5+ MB\n"
     ]
    }
   ],
   "source": [
    "tweet_df.info()"
   ]
  },
  {
   "cell_type": "code",
   "execution_count": 6,
   "id": "94e3f2fb-06c7-4910-b0c5-192d784e63ec",
   "metadata": {},
   "outputs": [
    {
     "data": {
      "text/plain": [
       "55"
      ]
     },
     "execution_count": 6,
     "metadata": {},
     "output_type": "execute_result"
    }
   ],
   "source": [
    "tweet_df.lang.unique().size"
   ]
  },
  {
   "cell_type": "code",
   "execution_count": 7,
   "id": "c633290a-1d65-446e-9b2b-41d6596a61c5",
   "metadata": {},
   "outputs": [
    {
     "data": {
      "text/plain": [
       "False"
      ]
     },
     "execution_count": 7,
     "metadata": {},
     "output_type": "execute_result"
    }
   ],
   "source": [
    "\"id\" in tweet_df.lang.unique()"
   ]
  },
  {
   "cell_type": "markdown",
   "id": "03bf3d45-8071-473e-9b23-cbcca81ef17d",
   "metadata": {},
   "source": [
    "# Get claims"
   ]
  },
  {
   "cell_type": "code",
   "execution_count": 8,
   "id": "c38ca2e3-88d0-43f2-b593-6c592c706f31",
   "metadata": {},
   "outputs": [],
   "source": [
    "claim_df = dataset.nodes['claim']"
   ]
  },
  {
   "cell_type": "code",
   "execution_count": 9,
   "id": "8c7f22ca-6fc2-44d6-9de6-e38975e26417",
   "metadata": {},
   "outputs": [
    {
     "name": "stdout",
     "output_type": "stream",
     "text": [
      "<class 'pandas.core.frame.DataFrame'>\n",
      "RangeIndex: 12885 entries, 0 to 12884\n",
      "Data columns (total 11 columns):\n",
      " #   Column            Non-Null Count  Dtype         \n",
      "---  ------            --------------  -----         \n",
      " 0   embedding         12885 non-null  object        \n",
      " 1   label             12885 non-null  category      \n",
      " 2   reviewers         12885 non-null  object        \n",
      " 3   date              12885 non-null  datetime64[ns]\n",
      " 4   language          12885 non-null  category      \n",
      " 5   keywords          12885 non-null  object        \n",
      " 6   cluster_keywords  12885 non-null  category      \n",
      " 7   cluster           12885 non-null  category      \n",
      " 8   train_mask        12885 non-null  bool          \n",
      " 9   val_mask          12885 non-null  bool          \n",
      " 10  test_mask         12885 non-null  bool          \n",
      "dtypes: bool(3), category(4), datetime64[ns](1), object(3)\n",
      "memory usage: 491.6+ KB\n"
     ]
    }
   ],
   "source": [
    "claim_df.info()"
   ]
  },
  {
   "cell_type": "code",
   "execution_count": 10,
   "id": "e71ffa43-236b-446c-8235-262bfa48cc5b",
   "metadata": {},
   "outputs": [
    {
     "data": {
      "text/plain": [
       "41"
      ]
     },
     "execution_count": 10,
     "metadata": {},
     "output_type": "execute_result"
    }
   ],
   "source": [
    "claim_df.language.unique().size"
   ]
  },
  {
   "cell_type": "code",
   "execution_count": 11,
   "id": "73af7d6a-8d7b-443f-9fff-f936a03edca7",
   "metadata": {},
   "outputs": [
    {
     "data": {
      "text/plain": [
       "True"
      ]
     },
     "execution_count": 11,
     "metadata": {},
     "output_type": "execute_result"
    }
   ],
   "source": [
    "\"id\" in claim_df.language.unique()"
   ]
  },
  {
   "cell_type": "code",
   "execution_count": 13,
   "id": "4e431de1-7b5b-4926-be6b-17e1e8dc806c",
   "metadata": {},
   "outputs": [
    {
     "data": {
      "text/plain": [
       "(328, 11)"
      ]
     },
     "execution_count": 13,
     "metadata": {},
     "output_type": "execute_result"
    }
   ],
   "source": [
    "id_claims_df = claim_df.loc[claim_df.language == 'id', :]\n",
    "id_claims_df.shape"
   ]
  },
  {
   "cell_type": "code",
   "execution_count": 14,
   "id": "b5931e7c-f575-4d64-b867-a888fdc02f3f",
   "metadata": {},
   "outputs": [
    {
     "data": {
      "text/html": [
       "<div>\n",
       "<style scoped>\n",
       "    .dataframe tbody tr th:only-of-type {\n",
       "        vertical-align: middle;\n",
       "    }\n",
       "\n",
       "    .dataframe tbody tr th {\n",
       "        vertical-align: top;\n",
       "    }\n",
       "\n",
       "    .dataframe thead th {\n",
       "        text-align: right;\n",
       "    }\n",
       "</style>\n",
       "<table border=\"1\" class=\"dataframe\">\n",
       "  <thead>\n",
       "    <tr style=\"text-align: right;\">\n",
       "      <th></th>\n",
       "      <th>embedding</th>\n",
       "      <th>label</th>\n",
       "      <th>reviewers</th>\n",
       "      <th>date</th>\n",
       "      <th>language</th>\n",
       "      <th>keywords</th>\n",
       "      <th>cluster_keywords</th>\n",
       "      <th>cluster</th>\n",
       "      <th>train_mask</th>\n",
       "      <th>val_mask</th>\n",
       "      <th>test_mask</th>\n",
       "    </tr>\n",
       "  </thead>\n",
       "  <tbody>\n",
       "    <tr>\n",
       "      <th>151</th>\n",
       "      <td>[-0.025578876957297325, 0.09601052105426788, -...</td>\n",
       "      <td>misinformation</td>\n",
       "      <td>[periksafakta.afp.com]</td>\n",
       "      <td>2020-07-18</td>\n",
       "      <td>id</td>\n",
       "      <td>google apple remove palestine maps</td>\n",
       "      <td></td>\n",
       "      <td>-1</td>\n",
       "      <td>True</td>\n",
       "      <td>False</td>\n",
       "      <td>False</td>\n",
       "    </tr>\n",
       "    <tr>\n",
       "      <th>154</th>\n",
       "      <td>[-0.012159052304923534, 0.10657747834920883, -...</td>\n",
       "      <td>misinformation</td>\n",
       "      <td>[cekfakta.tempo.co]</td>\n",
       "      <td>2020-07-18</td>\n",
       "      <td>id</td>\n",
       "      <td>palestine removed google maps</td>\n",
       "      <td></td>\n",
       "      <td>-1</td>\n",
       "      <td>True</td>\n",
       "      <td>False</td>\n",
       "      <td>False</td>\n",
       "    </tr>\n",
       "    <tr>\n",
       "      <th>263</th>\n",
       "      <td>[-0.09456656873226166, 0.061107587069272995, 0...</td>\n",
       "      <td>misinformation</td>\n",
       "      <td>[cekfakta.com]</td>\n",
       "      <td>2021-03-08</td>\n",
       "      <td>id</td>\n",
       "      <td>people died covid 19 vaccine</td>\n",
       "      <td>coronavirus china covid 19 treatments recommended</td>\n",
       "      <td>0</td>\n",
       "      <td>True</td>\n",
       "      <td>False</td>\n",
       "      <td>False</td>\n",
       "    </tr>\n",
       "    <tr>\n",
       "      <th>310</th>\n",
       "      <td>[-0.0038227590266615152, 0.15168921649456024, ...</td>\n",
       "      <td>misinformation</td>\n",
       "      <td>[cekfakta.com]</td>\n",
       "      <td>2020-03-17</td>\n",
       "      <td>id</td>\n",
       "      <td>ronaldo turns hotel corona hospital</td>\n",
       "      <td></td>\n",
       "      <td>-1</td>\n",
       "      <td>True</td>\n",
       "      <td>False</td>\n",
       "      <td>False</td>\n",
       "    </tr>\n",
       "    <tr>\n",
       "      <th>409</th>\n",
       "      <td>[-0.06622577458620071, 0.06714311987161636, -0...</td>\n",
       "      <td>misinformation</td>\n",
       "      <td>[cekfakta.com]</td>\n",
       "      <td>2021-02-15</td>\n",
       "      <td>id</td>\n",
       "      <td>rihanna holding national flag pakistan</td>\n",
       "      <td></td>\n",
       "      <td>-1</td>\n",
       "      <td>True</td>\n",
       "      <td>False</td>\n",
       "      <td>False</td>\n",
       "    </tr>\n",
       "  </tbody>\n",
       "</table>\n",
       "</div>"
      ],
      "text/plain": [
       "                                             embedding           label  \\\n",
       "151  [-0.025578876957297325, 0.09601052105426788, -...  misinformation   \n",
       "154  [-0.012159052304923534, 0.10657747834920883, -...  misinformation   \n",
       "263  [-0.09456656873226166, 0.061107587069272995, 0...  misinformation   \n",
       "310  [-0.0038227590266615152, 0.15168921649456024, ...  misinformation   \n",
       "409  [-0.06622577458620071, 0.06714311987161636, -0...  misinformation   \n",
       "\n",
       "                  reviewers       date language  \\\n",
       "151  [periksafakta.afp.com] 2020-07-18       id   \n",
       "154     [cekfakta.tempo.co] 2020-07-18       id   \n",
       "263          [cekfakta.com] 2021-03-08       id   \n",
       "310          [cekfakta.com] 2020-03-17       id   \n",
       "409          [cekfakta.com] 2021-02-15       id   \n",
       "\n",
       "                                   keywords  \\\n",
       "151      google apple remove palestine maps   \n",
       "154           palestine removed google maps   \n",
       "263            people died covid 19 vaccine   \n",
       "310     ronaldo turns hotel corona hospital   \n",
       "409  rihanna holding national flag pakistan   \n",
       "\n",
       "                                      cluster_keywords cluster  train_mask  \\\n",
       "151                                                         -1        True   \n",
       "154                                                         -1        True   \n",
       "263  coronavirus china covid 19 treatments recommended       0        True   \n",
       "310                                                         -1        True   \n",
       "409                                                         -1        True   \n",
       "\n",
       "     val_mask  test_mask  \n",
       "151     False      False  \n",
       "154     False      False  \n",
       "263     False      False  \n",
       "310     False      False  \n",
       "409     False      False  "
      ]
     },
     "execution_count": 14,
     "metadata": {},
     "output_type": "execute_result"
    }
   ],
   "source": [
    "id_claims_df.head()"
   ]
  }
 ],
 "metadata": {
  "kernelspec": {
   "display_name": "Python 3 (ipykernel)",
   "language": "python",
   "name": "python3"
  },
  "language_info": {
   "codemirror_mode": {
    "name": "ipython",
    "version": 3
   },
   "file_extension": ".py",
   "mimetype": "text/x-python",
   "name": "python",
   "nbconvert_exporter": "python",
   "pygments_lexer": "ipython3",
   "version": "3.10.5"
  }
 },
 "nbformat": 4,
 "nbformat_minor": 5
}
