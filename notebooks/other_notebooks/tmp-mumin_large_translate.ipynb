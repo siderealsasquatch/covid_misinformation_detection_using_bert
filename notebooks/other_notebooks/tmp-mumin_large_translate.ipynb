{
 "cells": [
  {
   "cell_type": "markdown",
   "id": "0607baf8-471f-4119-9ffe-cdf8627f417e",
   "metadata": {},
   "source": [
    "# Translate tweet text\n",
    "\n",
    "Here I figure out how to translate the tweet text using the `py-googletrans` module. For some reason it wasn't working the last time I tried to use it."
   ]
  },
  {
   "cell_type": "code",
   "execution_count": 19,
   "id": "63aaa2e3-3463-49c8-bf9c-52aa85188c1e",
   "metadata": {},
   "outputs": [],
   "source": [
    "from pathlib import Path\n",
    "from googletrans import Translator\n",
    "import pandas as pd\n",
    "\n",
    "# Load data\n",
    "data_dir = Path(\"data\")\n",
    "test, train, val = [pd.read_csv(f) for f in data_dir.iterdir() if f.suffix == \".csv\"]"
   ]
  },
  {
   "cell_type": "markdown",
   "id": "3cc2e5d9-09e4-402d-8575-a04b01f92e9d",
   "metadata": {},
   "source": [
    "## Test\n",
    "\n",
    "This is just to see if it works or not."
   ]
  },
  {
   "cell_type": "code",
   "execution_count": 11,
   "id": "47dbd1e8-e2e0-4e6b-a8f3-d0eb6127b627",
   "metadata": {},
   "outputs": [],
   "source": [
    "text, lang = train.text[0], train.lang[0]"
   ]
  },
  {
   "cell_type": "code",
   "execution_count": 14,
   "id": "c3b767d3-e214-42ee-9499-a96f5cef2f54",
   "metadata": {},
   "outputs": [],
   "source": [
    "tr = Translator()\n",
    "translation = tr.translate(text, src=lang, dest=\"id\")"
   ]
  },
  {
   "cell_type": "code",
   "execution_count": 15,
   "id": "7b8a8aae-2008-4bca-babe-6f08328d92ca",
   "metadata": {},
   "outputs": [
    {
     "data": {
      "text/plain": [
       "'Untuk menjaga saluran pernapasan atas kita tetap sehat di masa #Coronavirus ini, mari kita semua dikenakan air hangat dengan garam (lebih disukai Himalaya atau garam laut), beberapa jahe dan cuka sari apel pertama di pagi hari dan sebelum kita tidur.\\n Ludah air setelahnya.\\n#Letsfightcovid19 <Rerl>'"
      ]
     },
     "execution_count": 15,
     "metadata": {},
     "output_type": "execute_result"
    }
   ],
   "source": [
    "translation.text"
   ]
  },
  {
   "cell_type": "markdown",
   "id": "61b7797b-332b-4a1e-af64-cc931d57d60a",
   "metadata": {},
   "source": [
    "## Perform translation"
   ]
  },
  {
   "cell_type": "code",
   "execution_count": 16,
   "id": "28a0d1bd-f83e-4134-9f6c-0be01de477f4",
   "metadata": {},
   "outputs": [],
   "source": [
    "# Define translate function\n",
    "def translate(text, lang, translator):\n",
    "  try: \n",
    "    if lang != 'id':\n",
    "      translation = translator.translate(text, src=lang, dest='id')\n",
    "      return translation.text\n",
    "    else:\n",
    "      return text\n",
    "  except:\n",
    "    translation = translator.translate(text, dest='id')\n",
    "    return translation.text"
   ]
  },
  {
   "cell_type": "code",
   "execution_count": null,
   "id": "f360ec77-5096-423b-b759-fbafaf79568c",
   "metadata": {},
   "outputs": [],
   "source": [
    "tr = Translator()\n",
    "tr_strs = test.apply(lambda x: translate(x[\"text\"], x[\"lang\"], tr), axis=1)"
   ]
  },
  {
   "cell_type": "code",
   "execution_count": 18,
   "id": "2055fa2c-9db4-429f-95c3-59ff7a197a9a",
   "metadata": {},
   "outputs": [
    {
     "data": {
      "text/html": [
       "<div>\n",
       "<style scoped>\n",
       "    .dataframe tbody tr th:only-of-type {\n",
       "        vertical-align: middle;\n",
       "    }\n",
       "\n",
       "    .dataframe tbody tr th {\n",
       "        vertical-align: top;\n",
       "    }\n",
       "\n",
       "    .dataframe thead th {\n",
       "        text-align: right;\n",
       "    }\n",
       "</style>\n",
       "<table border=\"1\" class=\"dataframe\">\n",
       "  <thead>\n",
       "    <tr style=\"text-align: right;\">\n",
       "      <th></th>\n",
       "      <th>text</th>\n",
       "      <th>label</th>\n",
       "      <th>lang</th>\n",
       "    </tr>\n",
       "  </thead>\n",
       "  <tbody>\n",
       "    <tr>\n",
       "      <th>0</th>\n",
       "      <td>Cresce mobilização para o impeachment de Gilma...</td>\n",
       "      <td>0</td>\n",
       "      <td>pt</td>\n",
       "    </tr>\n",
       "    <tr>\n",
       "      <th>1</th>\n",
       "      <td>Cresce mobilização para o impeachment de Gilma...</td>\n",
       "      <td>0</td>\n",
       "      <td>pt</td>\n",
       "    </tr>\n",
       "    <tr>\n",
       "      <th>2</th>\n",
       "      <td>Cresce mobilização para o impeachment de Gilma...</td>\n",
       "      <td>0</td>\n",
       "      <td>pt</td>\n",
       "    </tr>\n",
       "    <tr>\n",
       "      <th>3</th>\n",
       "      <td>Pelo cumprimento do lema \"Ordem e Progresso\" e...</td>\n",
       "      <td>0</td>\n",
       "      <td>pt</td>\n",
       "    </tr>\n",
       "    <tr>\n",
       "      <th>4</th>\n",
       "      <td>Impeachment de Gilmar caminha para se tornar i...</td>\n",
       "      <td>0</td>\n",
       "      <td>pt</td>\n",
       "    </tr>\n",
       "    <tr>\n",
       "      <th>...</th>\n",
       "      <td>...</td>\n",
       "      <td>...</td>\n",
       "      <td>...</td>\n",
       "    </tr>\n",
       "    <tr>\n",
       "      <th>4132</th>\n",
       "      <td>Após os novos conflitos entre israelenses e pa...</td>\n",
       "      <td>0</td>\n",
       "      <td>pt</td>\n",
       "    </tr>\n",
       "    <tr>\n",
       "      <th>4133</th>\n",
       "      <td>Así que Trumpcito sabía que iban a hacer fraud...</td>\n",
       "      <td>0</td>\n",
       "      <td>es</td>\n",
       "    </tr>\n",
       "    <tr>\n",
       "      <th>4134</th>\n",
       "      <td>An old photo of a man holding a saffron flag o...</td>\n",
       "      <td>0</td>\n",
       "      <td>en</td>\n",
       "    </tr>\n",
       "    <tr>\n",
       "      <th>4135</th>\n",
       "      <td>Kozhikode: CISF played vital role in rescue op...</td>\n",
       "      <td>0</td>\n",
       "      <td>en</td>\n",
       "    </tr>\n",
       "    <tr>\n",
       "      <th>4136</th>\n",
       "      <td>Director of &lt;USER&gt; Palestine was begging for e...</td>\n",
       "      <td>0</td>\n",
       "      <td>en</td>\n",
       "    </tr>\n",
       "  </tbody>\n",
       "</table>\n",
       "<p>4137 rows × 3 columns</p>\n",
       "</div>"
      ],
      "text/plain": [
       "                                                   text  label lang\n",
       "0     Cresce mobilização para o impeachment de Gilma...      0   pt\n",
       "1     Cresce mobilização para o impeachment de Gilma...      0   pt\n",
       "2     Cresce mobilização para o impeachment de Gilma...      0   pt\n",
       "3     Pelo cumprimento do lema \"Ordem e Progresso\" e...      0   pt\n",
       "4     Impeachment de Gilmar caminha para se tornar i...      0   pt\n",
       "...                                                 ...    ...  ...\n",
       "4132  Após os novos conflitos entre israelenses e pa...      0   pt\n",
       "4133  Así que Trumpcito sabía que iban a hacer fraud...      0   es\n",
       "4134  An old photo of a man holding a saffron flag o...      0   en\n",
       "4135  Kozhikode: CISF played vital role in rescue op...      0   en\n",
       "4136  Director of <USER> Palestine was begging for e...      0   en\n",
       "\n",
       "[4137 rows x 3 columns]"
      ]
     },
     "execution_count": 18,
     "metadata": {},
     "output_type": "execute_result"
    }
   ],
   "source": []
  }
 ],
 "metadata": {
  "kernelspec": {
   "display_name": "Python 3.9.12 ('ml-general')",
   "language": "python",
   "name": "python3"
  },
  "language_info": {
   "codemirror_mode": {
    "name": "ipython",
    "version": 3
   },
   "file_extension": ".py",
   "mimetype": "text/x-python",
   "name": "python",
   "nbconvert_exporter": "python",
   "pygments_lexer": "ipython3",
   "version": "3.9.12"
  },
  "vscode": {
   "interpreter": {
    "hash": "b6360599b59dc8f487e15f687f1f2f61281c019cf0eac6cd68d9a3c330f29f67"
   }
  }
 },
 "nbformat": 4,
 "nbformat_minor": 5
}
