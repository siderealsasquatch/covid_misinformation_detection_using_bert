{
 "cells": [
  {
   "cell_type": "markdown",
   "id": "0607baf8-471f-4119-9ffe-cdf8627f417e",
   "metadata": {},
   "source": [
    "# Translate tweet text\n",
    "\n",
    "Here I figure out how to translate the tweet text using the `deep_translator` module."
   ]
  },
  {
   "cell_type": "code",
   "execution_count": 1,
   "id": "63aaa2e3-3463-49c8-bf9c-52aa85188c1e",
   "metadata": {},
   "outputs": [],
   "source": [
    "from pathlib import Path\n",
    "from deep_translator import GoogleTranslator\n",
    "import pandas as pd\n",
    "\n",
    "# Load data\n",
    "data_dir = Path(\"data\")\n",
    "data_file = \"mumin_medium-raw.csv\"\n",
    "mumin_df = pd.read_csv(data_dir.joinpath(data_file))"
   ]
  },
  {
   "cell_type": "markdown",
   "id": "61b7797b-332b-4a1e-af64-cc931d57d60a",
   "metadata": {},
   "source": [
    "## Perform translation"
   ]
  },
  {
   "cell_type": "code",
   "execution_count": 2,
   "id": "28a0d1bd-f83e-4134-9f6c-0be01de477f4",
   "metadata": {},
   "outputs": [],
   "source": [
    "# Define translate function\n",
    "def translate(text, src_lang, translator):\n",
    "  try:\n",
    "    if src_lang != \"id\":\n",
    "      translator.source = src_lang\n",
    "      return translator.translate(text=text)\n",
    "    else:\n",
    "      return text\n",
    "  except:\n",
    "    translator.source = \"auto\"\n",
    "    return translator.translate(text=text)"
   ]
  },
  {
   "cell_type": "code",
   "execution_count": 7,
   "id": "f360ec77-5096-423b-b759-fbafaf79568c",
   "metadata": {},
   "outputs": [],
   "source": [
    "# tr = GoogleTranslator(source=\"auto\", target=\"id\")\n",
    "# tr_strs_id = mumin_df.apply(lambda x: translate(x[\"text\"], x[\"lang\"], tr), axis=1)\n",
    "tr = GoogleTranslator(source=\"auto\", target=\"en\")\n",
    "tr_strs_en = mumin_df.apply(lambda x: translate(x[\"text\"], x[\"lang\"], tr), axis=1)"
   ]
  },
  {
   "cell_type": "code",
   "execution_count": 5,
   "id": "b0ce01ad",
   "metadata": {},
   "outputs": [
    {
     "data": {
      "text/plain": [
       "0    कॉरोना वायरस फेफड़ों में जाने से पहले तीन-चार ...\n",
       "1    Antes de llegar a los pulmones dura 4 días en ...\n",
       "2    మంచి వార్త!  కరోనా వైరస్ వ్యాక్సిన్ సిద్ధంగా ఉ...\n",
       "3    Great news! Carona virus vaccine ready. Able t...\n",
       "4    మంచి వార్త!  కరోనా వైరస్ వ్యాక్సిన్ సిద్ధంగా ఉ...\n",
       "Name: text, dtype: object"
      ]
     },
     "execution_count": 5,
     "metadata": {},
     "output_type": "execute_result"
    }
   ],
   "source": [
    "mumin_df.text[:5]"
   ]
  },
  {
   "cell_type": "code",
   "execution_count": 8,
   "id": "2a29de92",
   "metadata": {},
   "outputs": [
    {
     "data": {
      "text/plain": [
       "0    The corona virus stays in the throat for three...\n",
       "1    Before reaching the lungs, it lasts 4 days in ...\n",
       "2    Good news! Corona virus vaccine is ready. Abil...\n",
       "3    Great news! Carona virus vaccine ready. Able t...\n",
       "4    Good news! Corona virus vaccine is ready. Abil...\n",
       "dtype: object"
      ]
     },
     "execution_count": 8,
     "metadata": {},
     "output_type": "execute_result"
    }
   ],
   "source": [
    "# tr_strs[:5]\n",
    "tr_strs_en[:5]"
   ]
  },
  {
   "cell_type": "markdown",
   "id": "31e9e424",
   "metadata": {},
   "source": [
    "## Add translated text and write to CSV file"
   ]
  },
  {
   "cell_type": "code",
   "execution_count": null,
   "id": "52c8a4b3",
   "metadata": {},
   "outputs": [],
   "source": [
    "# Add translated text\n",
    "mumin_df[\"translated_text_en\"] = tr_strs_en\n",
    "\n",
    "# Write new dataset to csv file\n",
    "outfile = \"mumin_medium-trans.csv\"\n",
    "mumin_df[[\"text\", \"translated_text\", \"translated_text_en\", \"label\", \"lang\"]].to_csv(data_dir.joinpath(outfile), index=False)"
   ]
  }
 ],
 "metadata": {
  "kernelspec": {
   "display_name": "Python 3.9.12 ('ml-general')",
   "language": "python",
   "name": "python3"
  },
  "language_info": {
   "codemirror_mode": {
    "name": "ipython",
    "version": 3
   },
   "file_extension": ".py",
   "mimetype": "text/x-python",
   "name": "python",
   "nbconvert_exporter": "python",
   "pygments_lexer": "ipython3",
   "version": "3.9.12"
  },
  "vscode": {
   "interpreter": {
    "hash": "b6360599b59dc8f487e15f687f1f2f61281c019cf0eac6cd68d9a3c330f29f67"
   }
  }
 },
 "nbformat": 4,
 "nbformat_minor": 5
}
