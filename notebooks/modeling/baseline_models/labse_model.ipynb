{
 "cells": [
  {
   "cell_type": "markdown",
   "metadata": {},
   "source": [
    "# LaBSE model metrics\n",
    "\n",
    "Here we train an LaBSE model on the cleaned samples taken from the medium and large versions of the MuMiN dataset. Recall that we plan to train two different BERT models: IndoBERT and IndoBERTweet. Thus, we have prepared separate training sets for each model. Additionally, for the IndoBERT model, we plan to test two versions of the dataset: one where the hashtags have been left in place and one where the hashtags have been replaced with a generic token. Since the sample taken from the medium dataset is smaller than the one taken from the large dataset, we also plan to compare the results of the model trained on hold-out sets to the results of the model trianed via k-fold cross validation for the medium sample. We may also do this for the large sample just to see whether this improves model performance."
   ]
  },
  {
   "cell_type": "code",
   "execution_count": null,
   "metadata": {},
   "outputs": [],
   "source": []
  }
 ],
 "metadata": {
  "kernelspec": {
   "display_name": "Python 3.9.12 ('ml-general')",
   "language": "python",
   "name": "python3"
  },
  "language_info": {
   "name": "python",
   "version": "3.9.12"
  },
  "orig_nbformat": 4,
  "vscode": {
   "interpreter": {
    "hash": "959d5d072bd80f5e021ed6662d32feaffea6c1be8666359e462148e3819e5cf4"
   }
  }
 },
 "nbformat": 4,
 "nbformat_minor": 2
}
