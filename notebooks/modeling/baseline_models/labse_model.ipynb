{
 "cells": [
  {
   "cell_type": "code",
   "execution_count": null,
   "metadata": {},
   "outputs": [],
   "source": []
  }
 ],
 "metadata": {
  "kernelspec": {
   "display_name": "Python 3.9.12 64-bit (system)",
   "language": "python",
   "name": "python3"
  },
  "language_info": {
   "name": "python",
   "version": "3.9.12"
  },
  "orig_nbformat": 4,
  "vscode": {
   "interpreter": {
    "hash": "7b8ee9be45c5c91014821d12c4a0f53a54ab315f331d75219e2b72ba24965152"
   }
  }
 },
 "nbformat": 4,
 "nbformat_minor": 2
}
