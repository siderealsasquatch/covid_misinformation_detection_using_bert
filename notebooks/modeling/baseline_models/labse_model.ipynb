{
 "cells": [
  {
   "cell_type": "markdown",
   "metadata": {},
   "source": [
    "# LaBSE model metrics\n",
    "\n",
    "Here we train an LaBSE model on the cleaned samples taken from the medium and large versions of the MuMiN dataset. Recall that we plan to train two different BERT models: IndoBERT and IndoBERTweet. Thus, we have prepared separate training sets for each model. Additionally, for the IndoBERT model, we plan to test two versions of the dataset: one where the hashtags have been left in place and one where the hashtags have been replaced with a generic token. Since the sample taken from the medium dataset is smaller than the one taken from the large dataset, we also plan to compare the results of the model trained on hold-out sets to the results of the model trianed via k-fold cross validation for the medium sample. We may also do this for the large sample just to see whether this improves model performance."
   ]
  },
  {
   "cell_type": "code",
   "execution_count": null,
   "metadata": {},
   "outputs": [],
   "source": []
  }
 ],
 "metadata": {
  "kernelspec": {
   "display_name": "Python 3.10.4 ('ml-general')",
   "language": "python",
   "name": "python3"
  },
  "language_info": {
   "name": "python",
   "version": "3.10.4"
  },
  "orig_nbformat": 4,
  "vscode": {
   "interpreter": {
    "hash": "5601624226c7fabf755c65c27496246b0957db3b04a656cd3f1a6ab210a58a54"
   }
  }
 },
 "nbformat": 4,
 "nbformat_minor": 2
}
