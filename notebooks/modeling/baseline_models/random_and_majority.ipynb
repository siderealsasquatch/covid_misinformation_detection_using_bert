{
 "cells": [
  {
   "cell_type": "markdown",
   "metadata": {},
   "source": [
    "# Random and majority class baselines\n",
    "\n",
    "In this notebook we will calculate the macro F1 score for the random classifier and majority classifier baseline models. To briefly explain the models, assuming two class labels 0 and 1:\n",
    "\n",
    "- In a random classifier, half of the predictions are randomly assigned to 0 and the other half to 1.\n",
    "- In a majority classifier, all of the predictions are assigned to the class with the largest number of records.\n",
    "\n",
    "It should be noted that these models are not machine learning models. Rather, they are probability models. Thus, we will be using the entire dataset in order to calculate the F1 score."
   ]
  },
  {
   "cell_type": "markdown",
   "metadata": {},
   "source": [
    "## Calculate metrics\n",
    "\n",
    "Here we only load one of the medium datasets since they all share the same base dataset."
   ]
  },
  {
   "cell_type": "code",
   "execution_count": 1,
   "metadata": {},
   "outputs": [],
   "source": [
    "# Define functions for calculating the metrics\n",
    "\n",
    "# f1 score\n",
    "def f1(precision: float, recall: float) -> float:\n",
    "    return 2 * (precision * recall) / (precision + recall)\n",
    "\n",
    "# Macro f1 for random classifier\n",
    "def random_macro_f1(misinfo_pct: float) -> float:\n",
    "    prec_misinfo = misinfo_pct\n",
    "    rec_misinfo = 0.5\n",
    "    f1_misinfo = f1(prec_misinfo, rec_misinfo)\n",
    "    prec_factual = 1 - misinfo_pct\n",
    "    rec_factual = 0.5\n",
    "    f1_factual = f1(prec_factual, rec_factual)\n",
    "    return (f1_misinfo + f1_factual) / 2\n",
    "\n",
    "# Macro f1 for majority classifier\n",
    "def majority_macro_f1(misinfo_pct: float) -> float:\n",
    "    prec_misinfo = 1.\n",
    "    rec_misinfo = misinfo_pct\n",
    "    f1_misinfo = f1(prec_misinfo, rec_misinfo)\n",
    "    f1_factual = 0.\n",
    "    return (f1_misinfo + f1_factual) / 2"
   ]
  },
  {
   "cell_type": "code",
   "execution_count": 2,
   "metadata": {},
   "outputs": [
    {
     "name": "stdout",
     "output_type": "stream",
     "text": [
      "medium: random F1 = 37.32 and majority F1 = 48.71\n",
      "large: random F1 = 37.08 and majority F1 = 48.80\n"
     ]
    }
   ],
   "source": [
    "from pathlib import Path\n",
    "import warnings\n",
    "import pandas as pd\n",
    "\n",
    "# Get datasets\n",
    "data_dir = Path(\"../../data/\")\n",
    "data_files = [\"mumin_medium-id_trans-indobert_hashtags.csv\", \"mumin_large-trans-indobert_hashtags.csv\"]\n",
    "mumin_med_df, mumin_large_df = [pd.read_csv(data_dir.joinpath(data_file)) for data_file in data_files]\n",
    "\n",
    "# Calculate the metrics\n",
    "misinfo_pcts = {lab: df.label.mean() for lab, df in zip([\"medium\", \"large\"], [mumin_med_df, mumin_large_df])}\n",
    "\n",
    "for size, misinfo_pct in misinfo_pcts.items():\n",
    "    random_f1 = random_macro_f1(misinfo_pct)\n",
    "    majority_f1 = majority_macro_f1(misinfo_pct)\n",
    "    print(f'{size}: random F1 = {100 * random_f1:.2f} and majority F1 = {100 * majority_f1:.2f}')"
   ]
  }
 ],
 "metadata": {
  "kernelspec": {
   "display_name": "Python 3.10.4 ('ml-general')",
   "language": "python",
   "name": "python3"
  },
  "language_info": {
   "codemirror_mode": {
    "name": "ipython",
    "version": 3
   },
   "file_extension": ".py",
   "mimetype": "text/x-python",
   "name": "python",
   "nbconvert_exporter": "python",
   "pygments_lexer": "ipython3",
   "version": "3.10.4"
  },
  "orig_nbformat": 4,
  "vscode": {
   "interpreter": {
    "hash": "5601624226c7fabf755c65c27496246b0957db3b04a656cd3f1a6ab210a58a54"
   }
  }
 },
 "nbformat": 4,
 "nbformat_minor": 2
}
