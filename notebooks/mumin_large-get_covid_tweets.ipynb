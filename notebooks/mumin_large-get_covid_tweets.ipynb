{
 "cells": [
  {
   "cell_type": "markdown",
   "id": "1de5cb82-4f63-4435-8a54-c16f21633029",
   "metadata": {},
   "source": [
    "# Load dataset"
   ]
  },
  {
   "cell_type": "code",
   "execution_count": 1,
   "id": "ebf9468e-1d90-4c20-98c1-1b37bc9e8e5e",
   "metadata": {},
   "outputs": [
    {
     "name": "stderr",
     "output_type": "stream",
     "text": [
      "d:\\scoop\\apps\\miniconda3\\current\\envs\\ml-general\\lib\\site-packages\\tqdm\\auto.py:22: TqdmWarning: IProgress not found. Please update jupyter and ipywidgets. See https://ipywidgets.readthedocs.io/en/stable/user_install.html\n",
      "  from .autonotebook import tqdm as notebook_tqdm\n",
      "2022-08-04 09:42:55,327 [INFO] Loading dataset\n"
     ]
    },
    {
     "data": {
      "text/plain": [
       "MuminDataset(num_nodes=1,625,694, num_relations=2,394,768, size='large', rehydrated=True, compiled=True, bearer_token_available=True)"
      ]
     },
     "execution_count": 1,
     "metadata": {},
     "output_type": "execute_result"
    }
   ],
   "source": [
    "from pathlib import Path\n",
    "from mumin import MuminDataset\n",
    "\n",
    "# Set file names and paths\n",
    "data_dir = Path(\"data/mumin_archive/\")\n",
    "dataset_file = \"mumin-large_no-article_image.zip\"\n",
    "\n",
    "# Load the compiled dataset\n",
    "size = \"large\"\n",
    "dataset_path = data_dir.joinpath(dataset_file)\n",
    "include_tweet_images = False\n",
    "include_articles = False\n",
    "n_jobs = -1\n",
    "dataset = MuminDataset(dataset_path=dataset_path, size=size, n_jobs=n_jobs, include_tweet_images=include_tweet_images, include_articles=include_articles)\n",
    "dataset.compile()"
   ]
  },
  {
   "cell_type": "markdown",
   "id": "922fdd0c-a07d-4871-a870-bf5bdabb8e48",
   "metadata": {},
   "source": [
    "# Extract only the tweets that talk about COVID-19\n",
    "\n",
    "The easiest way to do this seems to be to filter the claims before joining. However, I will also try filtering the tweets after joining to see if that makes a difference."
   ]
  },
  {
   "cell_type": "markdown",
   "id": "ad982048-7ffa-423c-9b59-b2049071f7c0",
   "metadata": {},
   "source": [
    "## Get claims, tweets and relations"
   ]
  },
  {
   "cell_type": "code",
   "execution_count": 2,
   "id": "1afe79b9-2137-4cc3-9dea-1313d1223df1",
   "metadata": {},
   "outputs": [],
   "source": [
    "# Get tweets, claims and the relations between them\n",
    "tweets = dataset.nodes[\"tweet\"].dropna()\n",
    "claims = dataset.nodes[\"claim\"]\n",
    "rels = dataset.rels[(\"tweet\", \"discusses\", \"claim\")]"
   ]
  },
  {
   "cell_type": "markdown",
   "id": "303597af-f211-4c13-9e52-df36ac672aa5",
   "metadata": {},
   "source": [
    "## Filter claims"
   ]
  },
  {
   "cell_type": "code",
   "execution_count": 3,
   "id": "93fd940c-9ed0-4ded-9c61-70ae7ef6b15d",
   "metadata": {},
   "outputs": [
    {
     "name": "stdout",
     "output_type": "stream",
     "text": [
      "<class 'pandas.core.frame.DataFrame'>\n",
      "RangeIndex: 12885 entries, 0 to 12884\n",
      "Data columns (total 11 columns):\n",
      " #   Column            Non-Null Count  Dtype         \n",
      "---  ------            --------------  -----         \n",
      " 0   embedding         12885 non-null  object        \n",
      " 1   label             12885 non-null  category      \n",
      " 2   reviewers         12885 non-null  object        \n",
      " 3   date              12885 non-null  datetime64[ns]\n",
      " 4   language          12885 non-null  category      \n",
      " 5   keywords          12885 non-null  object        \n",
      " 6   cluster_keywords  12885 non-null  category      \n",
      " 7   cluster           12885 non-null  category      \n",
      " 8   train_mask        12885 non-null  bool          \n",
      " 9   val_mask          12885 non-null  bool          \n",
      " 10  test_mask         12885 non-null  bool          \n",
      "dtypes: bool(3), category(4), datetime64[ns](1), object(3)\n",
      "memory usage: 491.6+ KB\n"
     ]
    }
   ],
   "source": [
    "claims.info()"
   ]
  },
  {
   "cell_type": "code",
   "execution_count": 4,
   "id": "6ec9faa3-4a68-46ac-b71a-f5b4e57e054a",
   "metadata": {},
   "outputs": [
    {
     "name": "stderr",
     "output_type": "stream",
     "text": [
      "C:\\Users\\Fahmi\\AppData\\Local\\Temp\\ipykernel_32316\\2356386181.py:1: UserWarning: This pattern is interpreted as a regular expression, and has match groups. To actually get the groups, use str.extract.\n",
      "  covid_mask = claims.keywords.str.contains('(corona(.*virus)?|covid(.*19)?)') | claims.cluster_keywords.str.contains('(corona(.*virus)?|covid(.*19)?)')\n"
     ]
    },
    {
     "data": {
      "text/html": [
       "<div>\n",
       "<style scoped>\n",
       "    .dataframe tbody tr th:only-of-type {\n",
       "        vertical-align: middle;\n",
       "    }\n",
       "\n",
       "    .dataframe tbody tr th {\n",
       "        vertical-align: top;\n",
       "    }\n",
       "\n",
       "    .dataframe thead th {\n",
       "        text-align: right;\n",
       "    }\n",
       "</style>\n",
       "<table border=\"1\" class=\"dataframe\">\n",
       "  <thead>\n",
       "    <tr style=\"text-align: right;\">\n",
       "      <th></th>\n",
       "      <th>embedding</th>\n",
       "      <th>label</th>\n",
       "      <th>reviewers</th>\n",
       "      <th>date</th>\n",
       "      <th>language</th>\n",
       "      <th>keywords</th>\n",
       "      <th>cluster_keywords</th>\n",
       "      <th>cluster</th>\n",
       "      <th>train_mask</th>\n",
       "      <th>val_mask</th>\n",
       "      <th>test_mask</th>\n",
       "    </tr>\n",
       "  </thead>\n",
       "  <tbody>\n",
       "    <tr>\n",
       "      <th>0</th>\n",
       "      <td>[-0.04202667623758316, -0.00033039430854842067...</td>\n",
       "      <td>misinformation</td>\n",
       "      <td>[observador.pt]</td>\n",
       "      <td>2020-03-15 12:30:21</td>\n",
       "      <td>pt</td>\n",
       "      <td>corona virus reaching lungs remains</td>\n",
       "      <td>coronavirus china covid 19 treatments recommended</td>\n",
       "      <td>0</td>\n",
       "      <td>True</td>\n",
       "      <td>False</td>\n",
       "      <td>False</td>\n",
       "    </tr>\n",
       "    <tr>\n",
       "      <th>2</th>\n",
       "      <td>[0.05876247584819794, 0.02175525575876236, 0.0...</td>\n",
       "      <td>misinformation</td>\n",
       "      <td>[observador.pt]</td>\n",
       "      <td>2020-03-23 01:55:11</td>\n",
       "      <td>pt</td>\n",
       "      <td>news corona virus vaccine ready</td>\n",
       "      <td>coronavirus china covid 19 treatments recommended</td>\n",
       "      <td>0</td>\n",
       "      <td>True</td>\n",
       "      <td>False</td>\n",
       "      <td>False</td>\n",
       "    </tr>\n",
       "    <tr>\n",
       "      <th>10</th>\n",
       "      <td>[-0.058289170265197754, -0.014123783446848392,...</td>\n",
       "      <td>misinformation</td>\n",
       "      <td>[observador.pt]</td>\n",
       "      <td>2020-02-23 18:31:23</td>\n",
       "      <td>pt</td>\n",
       "      <td>confirmed case coronavirus portugal</td>\n",
       "      <td>coronavirus china covid 19 treatments recommended</td>\n",
       "      <td>0</td>\n",
       "      <td>True</td>\n",
       "      <td>False</td>\n",
       "      <td>False</td>\n",
       "    </tr>\n",
       "    <tr>\n",
       "      <th>13</th>\n",
       "      <td>[0.04389802739024162, 0.07366126775741577, 0.0...</td>\n",
       "      <td>misinformation</td>\n",
       "      <td>[observador.pt]</td>\n",
       "      <td>2020-07-02 11:22:38</td>\n",
       "      <td>pt</td>\n",
       "      <td>advertises taking vaccine covid 19</td>\n",
       "      <td>coronavirus china covid 19 treatments recommended</td>\n",
       "      <td>0</td>\n",
       "      <td>True</td>\n",
       "      <td>False</td>\n",
       "      <td>False</td>\n",
       "    </tr>\n",
       "    <tr>\n",
       "      <th>16</th>\n",
       "      <td>[-0.018961578607559204, 0.1207994893193245, 0....</td>\n",
       "      <td>misinformation</td>\n",
       "      <td>[aosfatos.org]</td>\n",
       "      <td>2020-03-13 00:00:00</td>\n",
       "      <td>pt</td>\n",
       "      <td>cuba announces produces vaccine coronavirus</td>\n",
       "      <td>coronavirus china covid 19 treatments recommended</td>\n",
       "      <td>0</td>\n",
       "      <td>True</td>\n",
       "      <td>False</td>\n",
       "      <td>False</td>\n",
       "    </tr>\n",
       "    <tr>\n",
       "      <th>...</th>\n",
       "      <td>...</td>\n",
       "      <td>...</td>\n",
       "      <td>...</td>\n",
       "      <td>...</td>\n",
       "      <td>...</td>\n",
       "      <td>...</td>\n",
       "      <td>...</td>\n",
       "      <td>...</td>\n",
       "      <td>...</td>\n",
       "      <td>...</td>\n",
       "      <td>...</td>\n",
       "    </tr>\n",
       "    <tr>\n",
       "      <th>12879</th>\n",
       "      <td>[-0.13542534410953522, -0.029435541480779648, ...</td>\n",
       "      <td>misinformation</td>\n",
       "      <td>[fakenews.pl]</td>\n",
       "      <td>2020-11-02 00:00:00</td>\n",
       "      <td>pl</td>\n",
       "      <td>amantadine miracle cure covid 19</td>\n",
       "      <td>coronavirus china covid 19 treatments recommended</td>\n",
       "      <td>0</td>\n",
       "      <td>True</td>\n",
       "      <td>False</td>\n",
       "      <td>False</td>\n",
       "    </tr>\n",
       "    <tr>\n",
       "      <th>12880</th>\n",
       "      <td>[0.01928618736565113, 0.0550604909658432, 0.08...</td>\n",
       "      <td>misinformation</td>\n",
       "      <td>[fakenews.pl]</td>\n",
       "      <td>2020-12-20 00:00:00</td>\n",
       "      <td>pl</td>\n",
       "      <td>nurse vaccinated covid 19 died</td>\n",
       "      <td>coronavirus china covid 19 treatments recommended</td>\n",
       "      <td>0</td>\n",
       "      <td>True</td>\n",
       "      <td>False</td>\n",
       "      <td>False</td>\n",
       "    </tr>\n",
       "    <tr>\n",
       "      <th>12882</th>\n",
       "      <td>[-0.1658276617527008, -0.08447681367397308, -0...</td>\n",
       "      <td>misinformation</td>\n",
       "      <td>[fakenews.pl]</td>\n",
       "      <td>2021-02-01 00:00:00</td>\n",
       "      <td>pl</td>\n",
       "      <td>shows risk contracting coronavirus location</td>\n",
       "      <td>coronavirus china covid 19 treatments recommended</td>\n",
       "      <td>0</td>\n",
       "      <td>True</td>\n",
       "      <td>False</td>\n",
       "      <td>False</td>\n",
       "    </tr>\n",
       "    <tr>\n",
       "      <th>12883</th>\n",
       "      <td>[-0.030005285516381264, 0.0005143969319760799,...</td>\n",
       "      <td>misinformation</td>\n",
       "      <td>[fakenews.pl]</td>\n",
       "      <td>2021-05-04 00:00:00</td>\n",
       "      <td>pl</td>\n",
       "      <td>died vaccinated covid 19</td>\n",
       "      <td>coronavirus china covid 19 treatments recommended</td>\n",
       "      <td>0</td>\n",
       "      <td>True</td>\n",
       "      <td>False</td>\n",
       "      <td>False</td>\n",
       "    </tr>\n",
       "    <tr>\n",
       "      <th>12884</th>\n",
       "      <td>[-0.08211137354373932, -0.1091047078371048, 0....</td>\n",
       "      <td>misinformation</td>\n",
       "      <td>[fakenews.pl]</td>\n",
       "      <td>2021-02-15 00:00:00</td>\n",
       "      <td>pl</td>\n",
       "      <td>man died 15 minutes vaccinated</td>\n",
       "      <td>coronavirus china covid 19 treatments recommended</td>\n",
       "      <td>0</td>\n",
       "      <td>True</td>\n",
       "      <td>False</td>\n",
       "      <td>False</td>\n",
       "    </tr>\n",
       "  </tbody>\n",
       "</table>\n",
       "<p>5574 rows × 11 columns</p>\n",
       "</div>"
      ],
      "text/plain": [
       "                                               embedding           label  \\\n",
       "0      [-0.04202667623758316, -0.00033039430854842067...  misinformation   \n",
       "2      [0.05876247584819794, 0.02175525575876236, 0.0...  misinformation   \n",
       "10     [-0.058289170265197754, -0.014123783446848392,...  misinformation   \n",
       "13     [0.04389802739024162, 0.07366126775741577, 0.0...  misinformation   \n",
       "16     [-0.018961578607559204, 0.1207994893193245, 0....  misinformation   \n",
       "...                                                  ...             ...   \n",
       "12879  [-0.13542534410953522, -0.029435541480779648, ...  misinformation   \n",
       "12880  [0.01928618736565113, 0.0550604909658432, 0.08...  misinformation   \n",
       "12882  [-0.1658276617527008, -0.08447681367397308, -0...  misinformation   \n",
       "12883  [-0.030005285516381264, 0.0005143969319760799,...  misinformation   \n",
       "12884  [-0.08211137354373932, -0.1091047078371048, 0....  misinformation   \n",
       "\n",
       "             reviewers                date language  \\\n",
       "0      [observador.pt] 2020-03-15 12:30:21       pt   \n",
       "2      [observador.pt] 2020-03-23 01:55:11       pt   \n",
       "10     [observador.pt] 2020-02-23 18:31:23       pt   \n",
       "13     [observador.pt] 2020-07-02 11:22:38       pt   \n",
       "16      [aosfatos.org] 2020-03-13 00:00:00       pt   \n",
       "...                ...                 ...      ...   \n",
       "12879    [fakenews.pl] 2020-11-02 00:00:00       pl   \n",
       "12880    [fakenews.pl] 2020-12-20 00:00:00       pl   \n",
       "12882    [fakenews.pl] 2021-02-01 00:00:00       pl   \n",
       "12883    [fakenews.pl] 2021-05-04 00:00:00       pl   \n",
       "12884    [fakenews.pl] 2021-02-15 00:00:00       pl   \n",
       "\n",
       "                                          keywords  \\\n",
       "0              corona virus reaching lungs remains   \n",
       "2                  news corona virus vaccine ready   \n",
       "10             confirmed case coronavirus portugal   \n",
       "13              advertises taking vaccine covid 19   \n",
       "16     cuba announces produces vaccine coronavirus   \n",
       "...                                            ...   \n",
       "12879             amantadine miracle cure covid 19   \n",
       "12880               nurse vaccinated covid 19 died   \n",
       "12882  shows risk contracting coronavirus location   \n",
       "12883                     died vaccinated covid 19   \n",
       "12884               man died 15 minutes vaccinated   \n",
       "\n",
       "                                        cluster_keywords cluster  train_mask  \\\n",
       "0      coronavirus china covid 19 treatments recommended       0        True   \n",
       "2      coronavirus china covid 19 treatments recommended       0        True   \n",
       "10     coronavirus china covid 19 treatments recommended       0        True   \n",
       "13     coronavirus china covid 19 treatments recommended       0        True   \n",
       "16     coronavirus china covid 19 treatments recommended       0        True   \n",
       "...                                                  ...     ...         ...   \n",
       "12879  coronavirus china covid 19 treatments recommended       0        True   \n",
       "12880  coronavirus china covid 19 treatments recommended       0        True   \n",
       "12882  coronavirus china covid 19 treatments recommended       0        True   \n",
       "12883  coronavirus china covid 19 treatments recommended       0        True   \n",
       "12884  coronavirus china covid 19 treatments recommended       0        True   \n",
       "\n",
       "       val_mask  test_mask  \n",
       "0         False      False  \n",
       "2         False      False  \n",
       "10        False      False  \n",
       "13        False      False  \n",
       "16        False      False  \n",
       "...         ...        ...  \n",
       "12879     False      False  \n",
       "12880     False      False  \n",
       "12882     False      False  \n",
       "12883     False      False  \n",
       "12884     False      False  \n",
       "\n",
       "[5574 rows x 11 columns]"
      ]
     },
     "execution_count": 4,
     "metadata": {},
     "output_type": "execute_result"
    }
   ],
   "source": [
    "covid_mask = claims.keywords.str.contains('(corona(.*virus)?|covid(.*19)?)') | claims.cluster_keywords.str.contains('(corona(.*virus)?|covid(.*19)?)')\n",
    "claims_filtered = claims.loc[covid_mask, :]\n",
    "claims_filtered\n",
    "#claims.loc[claims.keywords.str.contains('(corona(.*virus)?|covid 19)'), [\"language\", \"label\", \"keywords\", \"cluster_keywords\"]]\n",
    "#claims.loc[claims.keywords.str.contains('corona(.*virus)?'), [\"language\", \"label\", \"keywords\", \"cluster_keywords\"]]"
   ]
  },
  {
   "cell_type": "code",
   "execution_count": 5,
   "id": "eee8f8c8-9bde-4bbb-b65c-ed7e4f8c3b47",
   "metadata": {},
   "outputs": [],
   "source": [
    "# Join tweets on filtered claims\n",
    "tc_filtered_claims = (tweets.merge(rels, left_index=True, right_on='src')\n",
    "                      .merge(claims_filtered, left_on='tgt', right_index=True)\n",
    "                      .reset_index(drop=True))"
   ]
  },
  {
   "cell_type": "code",
   "execution_count": 6,
   "id": "e7e0319c-aabc-4343-a216-5ef937f6c45e",
   "metadata": {},
   "outputs": [
    {
     "name": "stdout",
     "output_type": "stream",
     "text": [
      "<class 'pandas.core.frame.DataFrame'>\n",
      "RangeIndex: 18225 entries, 0 to 18224\n",
      "Data columns (total 21 columns):\n",
      " #   Column            Non-Null Count  Dtype         \n",
      "---  ------            --------------  -----         \n",
      " 0   tweet_id          18225 non-null  uint64        \n",
      " 1   text              18225 non-null  object        \n",
      " 2   created_at        18225 non-null  datetime64[ns]\n",
      " 3   lang              18225 non-null  category      \n",
      " 4   source            18225 non-null  object        \n",
      " 5   num_retweets      18225 non-null  uint64        \n",
      " 6   num_replies       18225 non-null  uint64        \n",
      " 7   num_quote_tweets  18225 non-null  uint64        \n",
      " 8   src               18225 non-null  int64         \n",
      " 9   tgt               18225 non-null  int64         \n",
      " 10  embedding         18225 non-null  object        \n",
      " 11  label             18225 non-null  category      \n",
      " 12  reviewers         18225 non-null  object        \n",
      " 13  date              18225 non-null  datetime64[ns]\n",
      " 14  language          18225 non-null  category      \n",
      " 15  keywords          18225 non-null  object        \n",
      " 16  cluster_keywords  18225 non-null  category      \n",
      " 17  cluster           18225 non-null  category      \n",
      " 18  train_mask        18225 non-null  bool          \n",
      " 19  val_mask          18225 non-null  bool          \n",
      " 20  test_mask         18225 non-null  bool          \n",
      "dtypes: bool(3), category(5), datetime64[ns](2), int64(2), object(5), uint64(4)\n",
      "memory usage: 2.0+ MB\n"
     ]
    }
   ],
   "source": [
    "tc_filtered_claims.info()"
   ]
  },
  {
   "cell_type": "code",
   "execution_count": 7,
   "id": "4cec4ab0-c1e8-48a0-9f56-b3ed4d061ab6",
   "metadata": {},
   "outputs": [
    {
     "data": {
      "text/html": [
       "<div>\n",
       "<style scoped>\n",
       "    .dataframe tbody tr th:only-of-type {\n",
       "        vertical-align: middle;\n",
       "    }\n",
       "\n",
       "    .dataframe tbody tr th {\n",
       "        vertical-align: top;\n",
       "    }\n",
       "\n",
       "    .dataframe thead th {\n",
       "        text-align: right;\n",
       "    }\n",
       "</style>\n",
       "<table border=\"1\" class=\"dataframe\">\n",
       "  <thead>\n",
       "    <tr style=\"text-align: right;\">\n",
       "      <th></th>\n",
       "      <th>tweet_id</th>\n",
       "      <th>text</th>\n",
       "      <th>created_at</th>\n",
       "      <th>lang</th>\n",
       "      <th>source</th>\n",
       "      <th>num_retweets</th>\n",
       "      <th>num_replies</th>\n",
       "      <th>num_quote_tweets</th>\n",
       "      <th>src</th>\n",
       "      <th>tgt</th>\n",
       "      <th>...</th>\n",
       "      <th>label</th>\n",
       "      <th>reviewers</th>\n",
       "      <th>date</th>\n",
       "      <th>language</th>\n",
       "      <th>keywords</th>\n",
       "      <th>cluster_keywords</th>\n",
       "      <th>cluster</th>\n",
       "      <th>train_mask</th>\n",
       "      <th>val_mask</th>\n",
       "      <th>test_mask</th>\n",
       "    </tr>\n",
       "  </thead>\n",
       "  <tbody>\n",
       "    <tr>\n",
       "      <th>0</th>\n",
       "      <td>1243046281326534661</td>\n",
       "      <td>To keep our upper respiratory tract healthy in...</td>\n",
       "      <td>2020-03-26 05:25:02</td>\n",
       "      <td>en</td>\n",
       "      <td>Hootsuite Inc.</td>\n",
       "      <td>96</td>\n",
       "      <td>6</td>\n",
       "      <td>6</td>\n",
       "      <td>0</td>\n",
       "      <td>0</td>\n",
       "      <td>...</td>\n",
       "      <td>misinformation</td>\n",
       "      <td>[observador.pt]</td>\n",
       "      <td>2020-03-15 12:30:21</td>\n",
       "      <td>pt</td>\n",
       "      <td>corona virus reaching lungs remains</td>\n",
       "      <td>coronavirus china covid 19 treatments recommended</td>\n",
       "      <td>0</td>\n",
       "      <td>True</td>\n",
       "      <td>False</td>\n",
       "      <td>False</td>\n",
       "    </tr>\n",
       "    <tr>\n",
       "      <th>1</th>\n",
       "      <td>1243148522209161217</td>\n",
       "      <td>Gargling salt water does not 'kill' coronaviru...</td>\n",
       "      <td>2020-03-26 12:11:18</td>\n",
       "      <td>en</td>\n",
       "      <td>Twitter for iPhone</td>\n",
       "      <td>7</td>\n",
       "      <td>0</td>\n",
       "      <td>0</td>\n",
       "      <td>1</td>\n",
       "      <td>0</td>\n",
       "      <td>...</td>\n",
       "      <td>misinformation</td>\n",
       "      <td>[observador.pt]</td>\n",
       "      <td>2020-03-15 12:30:21</td>\n",
       "      <td>pt</td>\n",
       "      <td>corona virus reaching lungs remains</td>\n",
       "      <td>coronavirus china covid 19 treatments recommended</td>\n",
       "      <td>0</td>\n",
       "      <td>True</td>\n",
       "      <td>False</td>\n",
       "      <td>False</td>\n",
       "    </tr>\n",
       "    <tr>\n",
       "      <th>2</th>\n",
       "      <td>1238795119572049920</td>\n",
       "      <td>कॉरोना वायरस फेफड़ों में जाने से पहले तीन-चार ...</td>\n",
       "      <td>2020-03-14 11:52:26</td>\n",
       "      <td>hi</td>\n",
       "      <td>Twitter for Android</td>\n",
       "      <td>6</td>\n",
       "      <td>0</td>\n",
       "      <td>1</td>\n",
       "      <td>2</td>\n",
       "      <td>0</td>\n",
       "      <td>...</td>\n",
       "      <td>misinformation</td>\n",
       "      <td>[observador.pt]</td>\n",
       "      <td>2020-03-15 12:30:21</td>\n",
       "      <td>pt</td>\n",
       "      <td>corona virus reaching lungs remains</td>\n",
       "      <td>coronavirus china covid 19 treatments recommended</td>\n",
       "      <td>0</td>\n",
       "      <td>True</td>\n",
       "      <td>False</td>\n",
       "      <td>False</td>\n",
       "    </tr>\n",
       "    <tr>\n",
       "      <th>3</th>\n",
       "      <td>1238947475471454220</td>\n",
       "      <td>Antes de llegar a los pulmones dura 4 días en ...</td>\n",
       "      <td>2020-03-14 21:57:51</td>\n",
       "      <td>es</td>\n",
       "      <td>Twitter for Android</td>\n",
       "      <td>8</td>\n",
       "      <td>3</td>\n",
       "      <td>0</td>\n",
       "      <td>3</td>\n",
       "      <td>0</td>\n",
       "      <td>...</td>\n",
       "      <td>misinformation</td>\n",
       "      <td>[observador.pt]</td>\n",
       "      <td>2020-03-15 12:30:21</td>\n",
       "      <td>pt</td>\n",
       "      <td>corona virus reaching lungs remains</td>\n",
       "      <td>coronavirus china covid 19 treatments recommended</td>\n",
       "      <td>0</td>\n",
       "      <td>True</td>\n",
       "      <td>False</td>\n",
       "      <td>False</td>\n",
       "    </tr>\n",
       "    <tr>\n",
       "      <th>4</th>\n",
       "      <td>1239128401115516929</td>\n",
       "      <td>So they say the first symptons are #coughing\\n...</td>\n",
       "      <td>2020-03-15 09:56:47</td>\n",
       "      <td>en</td>\n",
       "      <td>Twitter for Android</td>\n",
       "      <td>10</td>\n",
       "      <td>2</td>\n",
       "      <td>1</td>\n",
       "      <td>4</td>\n",
       "      <td>0</td>\n",
       "      <td>...</td>\n",
       "      <td>misinformation</td>\n",
       "      <td>[observador.pt]</td>\n",
       "      <td>2020-03-15 12:30:21</td>\n",
       "      <td>pt</td>\n",
       "      <td>corona virus reaching lungs remains</td>\n",
       "      <td>coronavirus china covid 19 treatments recommended</td>\n",
       "      <td>0</td>\n",
       "      <td>True</td>\n",
       "      <td>False</td>\n",
       "      <td>False</td>\n",
       "    </tr>\n",
       "  </tbody>\n",
       "</table>\n",
       "<p>5 rows × 21 columns</p>\n",
       "</div>"
      ],
      "text/plain": [
       "              tweet_id                                               text  \\\n",
       "0  1243046281326534661  To keep our upper respiratory tract healthy in...   \n",
       "1  1243148522209161217  Gargling salt water does not 'kill' coronaviru...   \n",
       "2  1238795119572049920  कॉरोना वायरस फेफड़ों में जाने से पहले तीन-चार ...   \n",
       "3  1238947475471454220  Antes de llegar a los pulmones dura 4 días en ...   \n",
       "4  1239128401115516929  So they say the first symptons are #coughing\\n...   \n",
       "\n",
       "           created_at lang               source  num_retweets  num_replies  \\\n",
       "0 2020-03-26 05:25:02   en       Hootsuite Inc.            96            6   \n",
       "1 2020-03-26 12:11:18   en   Twitter for iPhone             7            0   \n",
       "2 2020-03-14 11:52:26   hi  Twitter for Android             6            0   \n",
       "3 2020-03-14 21:57:51   es  Twitter for Android             8            3   \n",
       "4 2020-03-15 09:56:47   en  Twitter for Android            10            2   \n",
       "\n",
       "   num_quote_tweets  src  tgt  ...           label        reviewers  \\\n",
       "0                 6    0    0  ...  misinformation  [observador.pt]   \n",
       "1                 0    1    0  ...  misinformation  [observador.pt]   \n",
       "2                 1    2    0  ...  misinformation  [observador.pt]   \n",
       "3                 0    3    0  ...  misinformation  [observador.pt]   \n",
       "4                 1    4    0  ...  misinformation  [observador.pt]   \n",
       "\n",
       "                 date language                             keywords  \\\n",
       "0 2020-03-15 12:30:21       pt  corona virus reaching lungs remains   \n",
       "1 2020-03-15 12:30:21       pt  corona virus reaching lungs remains   \n",
       "2 2020-03-15 12:30:21       pt  corona virus reaching lungs remains   \n",
       "3 2020-03-15 12:30:21       pt  corona virus reaching lungs remains   \n",
       "4 2020-03-15 12:30:21       pt  corona virus reaching lungs remains   \n",
       "\n",
       "                                    cluster_keywords cluster train_mask  \\\n",
       "0  coronavirus china covid 19 treatments recommended       0       True   \n",
       "1  coronavirus china covid 19 treatments recommended       0       True   \n",
       "2  coronavirus china covid 19 treatments recommended       0       True   \n",
       "3  coronavirus china covid 19 treatments recommended       0       True   \n",
       "4  coronavirus china covid 19 treatments recommended       0       True   \n",
       "\n",
       "   val_mask  test_mask  \n",
       "0     False      False  \n",
       "1     False      False  \n",
       "2     False      False  \n",
       "3     False      False  \n",
       "4     False      False  \n",
       "\n",
       "[5 rows x 21 columns]"
      ]
     },
     "execution_count": 7,
     "metadata": {},
     "output_type": "execute_result"
    }
   ],
   "source": [
    "tc_filtered_claims.head()"
   ]
  },
  {
   "cell_type": "code",
   "execution_count": 10,
   "id": "3eced1a8",
   "metadata": {},
   "outputs": [],
   "source": [
    "# Write dataframe to csv file\n",
    "cols_to_write = [\"text\", \"label\", \"lang\"]\n",
    "data_file = \"mumin_large-raw.csv\"\n",
    "tc_filtered_claims.reindex(columns=cols_to_write).to_csv(data_dir.parent.joinpath(data_file), index=False)"
   ]
  },
  {
   "cell_type": "markdown",
   "id": "0cab51a7",
   "metadata": {},
   "source": [
    "# Light pre-processing\n",
    "\n",
    "Here we do some light preprocessing in order to make it easier to translate. Specifically, we will:\n",
    "\n",
    "- Convert all text to lowercase\n",
    "- Encode labels\n",
    "- Remove newline characters as well as other strange characters\n",
    "- Remove excess whitespace\n",
    "- Replace some Twitter artifacts (mentions and URLs) with placeholder tokens (`<USER>` and `<URL>`)\n",
    "- Remove records with a language code of `zxx`\n",
    "- Remove duplicate records"
   ]
  },
  {
   "cell_type": "markdown",
   "id": "b1a27191",
   "metadata": {},
   "source": [
    "## Convert all text to lowercase"
   ]
  },
  {
   "cell_type": "code",
   "execution_count": 11,
   "id": "50b36601",
   "metadata": {},
   "outputs": [
    {
     "name": "stderr",
     "output_type": "stream",
     "text": [
      "C:\\Users\\Fahmi\\AppData\\Local\\Temp\\ipykernel_32316\\240385424.py:5: SettingWithCopyWarning: \n",
      "A value is trying to be set on a copy of a slice from a DataFrame.\n",
      "Try using .loc[row_indexer,col_indexer] = value instead\n",
      "\n",
      "See the caveats in the documentation: https://pandas.pydata.org/pandas-docs/stable/user_guide/indexing.html#returning-a-view-versus-a-copy\n",
      "  mumin_df.text = mumin_df.text.str.lower()\n"
     ]
    }
   ],
   "source": [
    "# Create new dataframe for cleaned text\n",
    "mumin_df = tc_filtered_claims[cols_to_write]\n",
    "\n",
    "# Convert all text to lowercase\n",
    "mumin_df.text = mumin_df.text.str.lower()"
   ]
  },
  {
   "cell_type": "markdown",
   "id": "9c45727d",
   "metadata": {},
   "source": [
    "## Encode labels\n",
    "\n",
    "Here we encode the labels in the following way:\n",
    "\n",
    "- `misinformation`: 1\n",
    "- `factual`: 0"
   ]
  },
  {
   "cell_type": "code",
   "execution_count": 17,
   "id": "ff875d00",
   "metadata": {},
   "outputs": [
    {
     "name": "stderr",
     "output_type": "stream",
     "text": [
      "C:\\Users\\Fahmi\\AppData\\Local\\Temp\\ipykernel_32316\\1648672190.py:2: SettingWithCopyWarning: \n",
      "A value is trying to be set on a copy of a slice from a DataFrame\n",
      "\n",
      "See the caveats in the documentation: https://pandas.pydata.org/pandas-docs/stable/user_guide/indexing.html#returning-a-view-versus-a-copy\n",
      "  mumin_df.label.replace(to_replace=encodings, inplace=True)\n"
     ]
    }
   ],
   "source": [
    "encodings = {\"misinformation\": 1, \"factual\": 0}\n",
    "mumin_df.label.replace(to_replace=encodings, inplace=True)"
   ]
  },
  {
   "cell_type": "code",
   "execution_count": 18,
   "id": "bb7e450b",
   "metadata": {},
   "outputs": [
    {
     "data": {
      "text/plain": [
       "1    17625\n",
       "0      600\n",
       "Name: label, dtype: int64"
      ]
     },
     "execution_count": 18,
     "metadata": {},
     "output_type": "execute_result"
    }
   ],
   "source": [
    "mumin_df.label.value_counts()"
   ]
  },
  {
   "cell_type": "markdown",
   "id": "7c9d6020",
   "metadata": {},
   "source": [
    "## Remove newline characters\n",
    "\n",
    "We'll also take this opportunity to remove other strange characters that don't add any additional information. So far, these other characters are:\n",
    "\n",
    "- `|`"
   ]
  },
  {
   "cell_type": "code",
   "execution_count": 13,
   "id": "cff3c864",
   "metadata": {},
   "outputs": [
    {
     "name": "stderr",
     "output_type": "stream",
     "text": [
      "C:\\Users\\Fahmi\\AppData\\Local\\Temp\\ipykernel_32316\\3764650923.py:1: FutureWarning: The default value of regex will change from True to False in a future version.\n",
      "  mumin_df.text = mumin_df.text.str.replace(\"(\\n|\\r|\\|)\", \"\")\n",
      "C:\\Users\\Fahmi\\AppData\\Local\\Temp\\ipykernel_32316\\3764650923.py:1: SettingWithCopyWarning: \n",
      "A value is trying to be set on a copy of a slice from a DataFrame.\n",
      "Try using .loc[row_indexer,col_indexer] = value instead\n",
      "\n",
      "See the caveats in the documentation: https://pandas.pydata.org/pandas-docs/stable/user_guide/indexing.html#returning-a-view-versus-a-copy\n",
      "  mumin_df.text = mumin_df.text.str.replace(\"(\\n|\\r|\\|)\", \"\")\n"
     ]
    }
   ],
   "source": [
    "mumin_df.text = mumin_df.text.str.replace(\"(\\n|\\r|\\|)\", \"\")"
   ]
  },
  {
   "cell_type": "markdown",
   "id": "d3d49cab",
   "metadata": {},
   "source": [
    "## Remove excess whitespace"
   ]
  },
  {
   "cell_type": "code",
   "execution_count": 15,
   "id": "6c158660",
   "metadata": {},
   "outputs": [
    {
     "name": "stderr",
     "output_type": "stream",
     "text": [
      "C:\\Users\\Fahmi\\AppData\\Local\\Temp\\ipykernel_32316\\3866519368.py:1: FutureWarning: The default value of regex will change from True to False in a future version.\n",
      "  mumin_df.text = mumin_df.text.str.replace(\"\\s+\", \" \")\n",
      "C:\\Users\\Fahmi\\AppData\\Local\\Temp\\ipykernel_32316\\3866519368.py:1: SettingWithCopyWarning: \n",
      "A value is trying to be set on a copy of a slice from a DataFrame.\n",
      "Try using .loc[row_indexer,col_indexer] = value instead\n",
      "\n",
      "See the caveats in the documentation: https://pandas.pydata.org/pandas-docs/stable/user_guide/indexing.html#returning-a-view-versus-a-copy\n",
      "  mumin_df.text = mumin_df.text.str.replace(\"\\s+\", \" \")\n"
     ]
    }
   ],
   "source": [
    "mumin_df.text = mumin_df.text.str.replace(\"\\s+\", \" \")"
   ]
  },
  {
   "cell_type": "markdown",
   "id": "03981465",
   "metadata": {},
   "source": [
    "## Replace some Twitter artifacts\n",
    "\n",
    "We'll replace mentions and URLs with some placeholder tokens:\n",
    "\n",
    "- Mentions: `<USER>`\n",
    "- URLs: `<URL>`"
   ]
  },
  {
   "cell_type": "code",
   "execution_count": 19,
   "id": "262a324e",
   "metadata": {},
   "outputs": [
    {
     "name": "stderr",
     "output_type": "stream",
     "text": [
      "C:\\Users\\Fahmi\\AppData\\Local\\Temp\\ipykernel_32316\\4017202957.py:2: FutureWarning: The default value of regex will change from True to False in a future version.\n",
      "  mumin_df.text = mumin_df.text.str.replace(\"(?:@)\\S+\", \"<USER>\")\n",
      "C:\\Users\\Fahmi\\AppData\\Local\\Temp\\ipykernel_32316\\4017202957.py:2: SettingWithCopyWarning: \n",
      "A value is trying to be set on a copy of a slice from a DataFrame.\n",
      "Try using .loc[row_indexer,col_indexer] = value instead\n",
      "\n",
      "See the caveats in the documentation: https://pandas.pydata.org/pandas-docs/stable/user_guide/indexing.html#returning-a-view-versus-a-copy\n",
      "  mumin_df.text = mumin_df.text.str.replace(\"(?:@)\\S+\", \"<USER>\")\n",
      "C:\\Users\\Fahmi\\AppData\\Local\\Temp\\ipykernel_32316\\4017202957.py:5: FutureWarning: The default value of regex will change from True to False in a future version.\n",
      "  mumin_df.text = mumin_df.text.str.replace(\"(?:https?://)\\S+\", \"<URL>\")\n",
      "C:\\Users\\Fahmi\\AppData\\Local\\Temp\\ipykernel_32316\\4017202957.py:5: SettingWithCopyWarning: \n",
      "A value is trying to be set on a copy of a slice from a DataFrame.\n",
      "Try using .loc[row_indexer,col_indexer] = value instead\n",
      "\n",
      "See the caveats in the documentation: https://pandas.pydata.org/pandas-docs/stable/user_guide/indexing.html#returning-a-view-versus-a-copy\n",
      "  mumin_df.text = mumin_df.text.str.replace(\"(?:https?://)\\S+\", \"<URL>\")\n"
     ]
    }
   ],
   "source": [
    "# Replace mentions with <USER>\n",
    "mumin_df.text = mumin_df.text.str.replace(\"(?:@)\\S+\", \"<USER>\")\n",
    "\n",
    "# Replace URLS with <URL>\n",
    "mumin_df.text = mumin_df.text.str.replace(\"(?:https?://)\\S+\", \"<URL>\")"
   ]
  },
  {
   "cell_type": "markdown",
   "id": "ed85ddd7",
   "metadata": {},
   "source": [
    "## Remove duplicate entries"
   ]
  },
  {
   "cell_type": "code",
   "execution_count": 21,
   "id": "c97dcc35",
   "metadata": {},
   "outputs": [
    {
     "name": "stderr",
     "output_type": "stream",
     "text": [
      "C:\\Users\\Fahmi\\AppData\\Local\\Temp\\ipykernel_32316\\3277757415.py:3: SettingWithCopyWarning: \n",
      "A value is trying to be set on a copy of a slice from a DataFrame\n",
      "\n",
      "See the caveats in the documentation: https://pandas.pydata.org/pandas-docs/stable/user_guide/indexing.html#returning-a-view-versus-a-copy\n",
      "  mumin_df.drop_duplicates(inplace=True, ignore_index=True)\n"
     ]
    }
   ],
   "source": [
    "size_before = mumin_df.shape[0]\n",
    "# mumin_df.drop_duplicates(subset=\"text\", inplace=True, ignore_index=True)\n",
    "mumin_df.drop_duplicates(inplace=True, ignore_index=True)\n",
    "size_after = mumin_df.shape[0]"
   ]
  },
  {
   "cell_type": "code",
   "execution_count": 22,
   "id": "91e5c408",
   "metadata": {},
   "outputs": [
    {
     "name": "stdout",
     "output_type": "stream",
     "text": [
      "# of records before dropping duplicates: 18225\n",
      "# of records after dropping duplicates: 9479\n"
     ]
    }
   ],
   "source": [
    "print(f\"# of records before dropping duplicates: {size_before}\")\n",
    "print(f\"# of records after dropping duplicates: {size_after}\")"
   ]
  },
  {
   "cell_type": "markdown",
   "id": "01aba148",
   "metadata": {},
   "source": [
    "## Remove records with `zxx` language code"
   ]
  },
  {
   "cell_type": "code",
   "execution_count": 26,
   "id": "a97a4d11",
   "metadata": {},
   "outputs": [],
   "source": [
    "mumin_df = mumin_df.loc[~(mumin_df.lang == \"zxx\"), :].reset_index(drop=True)"
   ]
  },
  {
   "cell_type": "markdown",
   "id": "a3ed81cb",
   "metadata": {},
   "source": [
    "## Write pre-cleaned dataset to CSV file"
   ]
  },
  {
   "cell_type": "code",
   "execution_count": 27,
   "id": "ca414370",
   "metadata": {},
   "outputs": [],
   "source": [
    "# Write dataframe to csv file\n",
    "# cols_to_write = [\"text\", \"label\", \"lang\"]\n",
    "data_file = \"mumin_large-preproc.csv\"\n",
    "mumin_df.to_csv(data_dir.parent.joinpath(data_file), index=False)"
   ]
  }
 ],
 "metadata": {
  "kernelspec": {
   "display_name": "Python 3.9.12 ('ml-general')",
   "language": "python",
   "name": "python3"
  },
  "language_info": {
   "codemirror_mode": {
    "name": "ipython",
    "version": 3
   },
   "file_extension": ".py",
   "mimetype": "text/x-python",
   "name": "python",
   "nbconvert_exporter": "python",
   "pygments_lexer": "ipython3",
   "version": "3.9.12"
  },
  "vscode": {
   "interpreter": {
    "hash": "959d5d072bd80f5e021ed6662d32feaffea6c1be8666359e462148e3819e5cf4"
   }
  }
 },
 "nbformat": 4,
 "nbformat_minor": 5
}
