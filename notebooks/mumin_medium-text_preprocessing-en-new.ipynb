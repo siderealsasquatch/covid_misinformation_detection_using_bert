{
 "cells": [
  {
   "cell_type": "markdown",
   "metadata": {},
   "source": [
    "# Pre-processing the MuMiN medium subset\n",
    "\n",
    "In this notebook we will pre-process the text of the subset of the MuMiN medium dataset that we extracted for our thesis project. We will be using two separate models: the IndoBERT model by Willie et al. that's been pre-trained on Tweets and the IndoBERTweet model by Koto et al. Since the pre-processing steps are slightly different between the two models we'll create two separate datsets, one for each model. For both datasets, we'll do the following:\n",
    "\n",
    "- Encode the labels\n",
    "- Convert all text to lowercase\n",
    "- Remove duplicate Tweets\n",
    "- Remove newlines and other non-informative characters\n",
    "- Remove excess white space\n",
    "  \n",
    "For the IndoBERT model we'll perform the following pre-processing steps:\n",
    "\n",
    "- Replace mentions, hashtags and URLs with generic tokens (e.g., \\<user\\> for mentions and \\<url\\> for URLs)\n",
    "\n",
    "For the IndoBERTweet model we'll perform the following pre-processing steps:\n",
    "\n",
    "- Replace mentions and URLs with the tags `@USER` and `HTTPURL` respectively\n",
    "- Replacing emojis with their text representations"
   ]
  },
  {
   "cell_type": "markdown",
   "metadata": {},
   "source": [
    "# Preliminary EDA\n",
    "\n",
    "## Load the data"
   ]
  },
  {
   "cell_type": "code",
   "execution_count": 1,
   "metadata": {},
   "outputs": [],
   "source": [
    "from pathlib import Path\n",
    "import numpy as np\n",
    "import pandas as pd\n",
    "\n",
    "# Set data directory path and file name\n",
    "data_dir = Path(\"data\")\n",
    "data_file = \"mumin_medium-id_trans.csv\"\n",
    "\n",
    "# Load the data\n",
    "mumin_df = pd.read_csv(data_dir.joinpath(data_file))"
   ]
  },
  {
   "cell_type": "markdown",
   "metadata": {},
   "source": [
    "## Examine data"
   ]
  },
  {
   "cell_type": "code",
   "execution_count": 2,
   "metadata": {},
   "outputs": [
    {
     "name": "stdout",
     "output_type": "stream",
     "text": [
      "<class 'pandas.core.frame.DataFrame'>\n",
      "RangeIndex: 4453 entries, 0 to 4452\n",
      "Data columns (total 4 columns):\n",
      " #   Column           Non-Null Count  Dtype \n",
      "---  ------           --------------  ----- \n",
      " 0   text             4453 non-null   object\n",
      " 1   translated_text  4453 non-null   object\n",
      " 2   label            4453 non-null   object\n",
      " 3   lang             4453 non-null   object\n",
      "dtypes: object(4)\n",
      "memory usage: 139.3+ KB\n"
     ]
    }
   ],
   "source": [
    "mumin_df.info()"
   ]
  },
  {
   "cell_type": "code",
   "execution_count": 3,
   "metadata": {},
   "outputs": [
    {
     "data": {
      "text/html": [
       "<div>\n",
       "<style scoped>\n",
       "    .dataframe tbody tr th:only-of-type {\n",
       "        vertical-align: middle;\n",
       "    }\n",
       "\n",
       "    .dataframe tbody tr th {\n",
       "        vertical-align: top;\n",
       "    }\n",
       "\n",
       "    .dataframe thead th {\n",
       "        text-align: right;\n",
       "    }\n",
       "</style>\n",
       "<table border=\"1\" class=\"dataframe\">\n",
       "  <thead>\n",
       "    <tr style=\"text-align: right;\">\n",
       "      <th></th>\n",
       "      <th>text</th>\n",
       "      <th>translated_text</th>\n",
       "      <th>label</th>\n",
       "      <th>lang</th>\n",
       "    </tr>\n",
       "  </thead>\n",
       "  <tbody>\n",
       "    <tr>\n",
       "      <th>0</th>\n",
       "      <td>कॉरोना वायरस फेफड़ों में जाने से पहले तीन-चार ...</td>\n",
       "      <td>Virus corona bertahan di tenggorokan selama ti...</td>\n",
       "      <td>misinformation</td>\n",
       "      <td>hi</td>\n",
       "    </tr>\n",
       "    <tr>\n",
       "      <th>1</th>\n",
       "      <td>Antes de llegar a los pulmones dura 4 días en ...</td>\n",
       "      <td>Sebelum mencapai paru-paru, itu berlangsung 4 ...</td>\n",
       "      <td>misinformation</td>\n",
       "      <td>es</td>\n",
       "    </tr>\n",
       "    <tr>\n",
       "      <th>2</th>\n",
       "      <td>మంచి వార్త!  కరోనా వైరస్ వ్యాక్సిన్ సిద్ధంగా ఉ...</td>\n",
       "      <td>Kabar baik! Vaksin virus corona sudah siap. Ke...</td>\n",
       "      <td>misinformation</td>\n",
       "      <td>te</td>\n",
       "    </tr>\n",
       "    <tr>\n",
       "      <th>3</th>\n",
       "      <td>Great news! Carona virus vaccine ready. Able t...</td>\n",
       "      <td>Kabar baik! Vaksin virus carona sudah siap. Ma...</td>\n",
       "      <td>misinformation</td>\n",
       "      <td>en</td>\n",
       "    </tr>\n",
       "    <tr>\n",
       "      <th>4</th>\n",
       "      <td>మంచి వార్త!  కరోనా వైరస్ వ్యాక్సిన్ సిద్ధంగా ఉ...</td>\n",
       "      <td>Kabar baik! Vaksin virus corona sudah siap. Ke...</td>\n",
       "      <td>misinformation</td>\n",
       "      <td>te</td>\n",
       "    </tr>\n",
       "  </tbody>\n",
       "</table>\n",
       "</div>"
      ],
      "text/plain": [
       "                                                text  \\\n",
       "0  कॉरोना वायरस फेफड़ों में जाने से पहले तीन-चार ...   \n",
       "1  Antes de llegar a los pulmones dura 4 días en ...   \n",
       "2  మంచి వార్త!  కరోనా వైరస్ వ్యాక్సిన్ సిద్ధంగా ఉ...   \n",
       "3  Great news! Carona virus vaccine ready. Able t...   \n",
       "4  మంచి వార్త!  కరోనా వైరస్ వ్యాక్సిన్ సిద్ధంగా ఉ...   \n",
       "\n",
       "                                     translated_text           label lang  \n",
       "0  Virus corona bertahan di tenggorokan selama ti...  misinformation   hi  \n",
       "1  Sebelum mencapai paru-paru, itu berlangsung 4 ...  misinformation   es  \n",
       "2  Kabar baik! Vaksin virus corona sudah siap. Ke...  misinformation   te  \n",
       "3  Kabar baik! Vaksin virus carona sudah siap. Ma...  misinformation   en  \n",
       "4  Kabar baik! Vaksin virus corona sudah siap. Ke...  misinformation   te  "
      ]
     },
     "execution_count": 3,
     "metadata": {},
     "output_type": "execute_result"
    }
   ],
   "source": [
    "mumin_df.head()"
   ]
  },
  {
   "cell_type": "markdown",
   "metadata": {},
   "source": [
    "Note the duplicate entries in the `translated_text` column. We'll need to remove these duplicates later."
   ]
  },
  {
   "cell_type": "code",
   "execution_count": 4,
   "metadata": {},
   "outputs": [
    {
     "data": {
      "text/plain": [
       "['Setengah Dari Semua Orang Dewasa AS Akan Divaksinasi Sepenuhnya Terhadap COVID-19 Mulai Selasa https://t.co/2rL3p78Twy',\n",
       " '🚨🚨🚨\\n\\nKepala petugas medis Moderna mengakui bahwa vaksin messenger RNA mengubah DNA.\\n\\nhttps://t.co/GMmtMuOug3',\n",
       " 'Bank Dunia menempatkan Brasil sebagai negara terbaik dalam perang melawan Covid-19 https://t.co/EkogjS9aKU',\n",
       " 'Ini adalah negara-negara di mana virus corona ditemukan di China telah menyebar.\\nhttps://t.co/VmlE7Psh9y https://t.co/ZE4npQQLnK',\n",
       " 'Namun studi lain tentang efektivitas Ivermectin. https://t.co/JY61pDWaGc',\n",
       " 'Dokter dari pedalaman Venezuela menuntut vaksin melawan COVID-19 sementara kematian tidak berhenti. https://t.co/N97GP7rGRF',\n",
       " 'Apakah paket bantuan pandemi Covid-19 senilai $1,9 triliun akan membebani setiap warga negara AS $5.750?\\n\\nTidak. Para ekonom mengatakan biaya rencana tidak dapat dikaitkan dengan setiap orang Amerika dengan cara ini https://t.co/wLN3jUuAvs',\n",
       " 'Virus corona Wuhan diyakini berasal dari pasar yang menjual hewan liar https://t.co/dGEvikqh37',\n",
       " 'Langkah Bill Gates untuk memerangi virus corona https://t.co/yKvZb50pMi @MorningsMaria @FoxBusiness',\n",
       " 'Ivermectin bukan pengobatan untuk covid-19; pelajari lebih lanjut tentang obat @estadao: https://t.co/ZWEbRzDlGT',\n",
       " 'Bagi kebanyakan anak, pemberian vaksin terhadap #SARS_CoV_2 sulit dibenarkan, kata ilmuwan dari dua universitas Amerika #coronavirus\\nhttps://t.co/mOJVNvJHoc',\n",
       " '#covid #coronavirus #PENTING\\nLaporan baru: Varian Inggris 1,65 kali lebih mematikan setelah 20 hari di lebih dari 92.000 kasus (interval kepercayaan 95% 1,21-2,25).\\nhttps://t.co/SPLFbKDeH6 https://t.co/O63h6zSnn5',\n",
       " 'AUSTRALIA - Di panti jompo Queensland, seorang wanita berusia 82 tahun meninggal hanya 3 jam setelah menerima dosis pertama vaksin PFIZER! ️⚡️⚡️\\n@ADv_in21 @ComploTisss\\nhttps://t.co/ztOpdD4MEt',\n",
       " 'LAMPU GASLIGHTING TINGKAT NAZI...\\n\\nSekarang ini hanya pertanyaan tentang jumlah tubuh terakhir. https://t.co/RSDnmJ3NTi',\n",
       " \"Palang Merah Jepang menolak donor darah dari orang yang disuntik dengan 'vaksin' COVID-19 https://t.co/kNXeGK5FJj via @Frontnieuws\",\n",
       " 'Baru-baru ini, Pusat Pengendalian dan Pencegahan Penyakit melaporkan bahwa lebih dari 5.800 dari 75 juta orang yang divaksinasi lengkap di AS telah terinfeksi COVID-19. https://t.co/o1brGhUIjc',\n",
       " 'Apa itu pelacakan kontak? Temukan jawaban untuk pertanyaan ini dan lainnya: https://t.co/NzAk0W8ZO4 #COVID19 #SaludPública #DesaceleraLaPropagación https://t.co/wCv3cLWmtt',\n",
       " 'Dunia waspada! Mimpi buruk itu tumbuh...\\n\\n25 orang meninggal dalam virus yang menyebar dari China, 8 kota dikarantina\\nVirus ditemukan di 8 negara lagi\\nTindakan intensif dilakukan di Rumah Sakit Süreyyapaşa untuk turis wanita Tiongkok di Istanbul!\\n\\n#CoronaViruesue #Coronavirus https://t.co/l7Bi8a2iIp',\n",
       " 'Virus corona baru dapat bertahan selama beberapa jam di partikel udara dan bertahan lama di permukaan, menurut sebuah studi baru yang didanai pemerintah federal yang diterbitkan di New England Journal of Medicine.\\n\\nhttps://t.co/wkS1FX1yxh',\n",
       " 'Tanpa mereka, tulang telinga tengah tidak hanya akan kehilangan pendengaran, tetapi juga keseimbangan seluruh tubuh, dan sedikit peradangan di dalamnya menyebabkan pusing dan ketidakmampuan untuk menyeimbangkan. https://t.co/C5dmcHdQ9W']"
      ]
     },
     "execution_count": 4,
     "metadata": {},
     "output_type": "execute_result"
    }
   ],
   "source": [
    "# np.random.seed(3)\n",
    "np.random.seed(4)\n",
    "mumin_df.sample(20).translated_text.to_list()"
   ]
  },
  {
   "cell_type": "markdown",
   "metadata": {},
   "source": [
    "Here we can see the following types of entities in the text that must be removed:\n",
    "\n",
    "- Newline characters (`\\n` and `\\r`)\n",
    "- Emojis\n",
    "- URLs\n",
    "- Mentions\n",
    "\n",
    "Not shown are non-unicode characters, such as `\\x9a`.\n",
    "\n",
    "Since we're dealing with Tweets, there are also hashtags. Hashtags do carry useful information and the IndoBERT model that we plan to use was trained on a corpus of Tweets so I'm assuming that IndoBERT knows how to handle Tweets. I'll check to see if there is a link to the corpus and how the model was trained on it. If it turns out that the hashtags were left as-is then there's no need to remove them. If the hashtags were processed in some way then I'll need to implement the same kind of processing on these Tweets."
   ]
  },
  {
   "cell_type": "markdown",
   "metadata": {},
   "source": [
    "# Process text\n",
    "\n",
    "## Create separate column for cleaned text\n",
    "\n",
    "This column will contain all of the pre-processing steps that are shared by both the IndoBERT and IndoBERTweet datasets."
   ]
  },
  {
   "cell_type": "code",
   "execution_count": 5,
   "metadata": {},
   "outputs": [],
   "source": [
    "mumin_df[\"cleaned_text\"] = mumin_df[\"translated_text\"]"
   ]
  },
  {
   "cell_type": "markdown",
   "metadata": {},
   "source": [
    "## Convert all text to lowercase"
   ]
  },
  {
   "cell_type": "code",
   "execution_count": 6,
   "metadata": {},
   "outputs": [
    {
     "data": {
      "text/plain": [
       "['virus corona bertahan di tenggorokan selama tiga hingga empat hari sebelum masuk ke paru-paru.\\n\\nia juga mengeluh batuk dan berdahak.\\n\\ndalam situasi seperti itu, jika kumur dilakukan dengan menambahkan garam ke air panas ...\\n\\ndan jika lemon dikonsumsi maka penyakit ini bisa dihindari.\\n\\ndan banyak nyawa bisa diselamatkan.\\n\\n️👋🌷🌹💐🌴 https://t.co/uoilydci6a',\n",
       " 'sebelum mencapai paru-paru, itu berlangsung 4 hari di tenggorokan, di mana orang yang terinfeksi mulai batuk dan sakit tenggorokan. mereka harus banyak minum air putih dan berkumur dengan air hangat dengan garam atau cuka, ini akan menghilangkan retweet coronavirus karena bisa menyelamatkan seseorang. https://t.co/z7eudqcalj',\n",
       " 'kabar baik! vaksin virus corona sudah siap. kemampuan untuk menyembuhkan pasien dalam waktu 3 jam setelah injeksi. angkat topi untuk para ilmuwan as.\\n trump baru saja mengumumkan bahwa roche medical company akan merilis vaksin minggu depan dan jutaan dosis darinya https://t.co/zyx4rzhs3h',\n",
       " 'kabar baik! vaksin virus carona sudah siap. mampu menyembuhkan pasien dalam waktu 3 jam setelah injeksi. angkat topi untuk ilmuwan as.\\nsaat ini trump mengumumkan bahwa roche medical company akan meluncurkan vaksin pada hari minggu depan, dan jutaan dosis sudah siap dari itu !!!\\nvia: @wajih79273180 https://t.co/bzjcltwuxq',\n",
       " 'kabar baik! vaksin virus corona sudah siap. kemampuan untuk menyembuhkan pasien dalam waktu 3 jam setelah injeksi. angkat topi untuk para ilmuwan as.\\n trump baru saja mengumumkan bahwa roche medical company akan merilis vaksin minggu depan dan jutaan dosis darinya https://t.co/zyx4rzhs3h']"
      ]
     },
     "execution_count": 6,
     "metadata": {},
     "output_type": "execute_result"
    }
   ],
   "source": [
    "mumin_df.cleaned_text = mumin_df.cleaned_text.str.lower()\n",
    "mumin_df.cleaned_text.head().to_list()"
   ]
  },
  {
   "cell_type": "markdown",
   "metadata": {},
   "source": [
    "## Remove duplicate entries"
   ]
  },
  {
   "cell_type": "code",
   "execution_count": 7,
   "metadata": {},
   "outputs": [],
   "source": [
    "size_before = mumin_df.shape[0]\n",
    "mumin_df.drop_duplicates(subset=\"cleaned_text\", inplace=True, ignore_index=True)\n",
    "size_after = mumin_df.shape[0]"
   ]
  },
  {
   "cell_type": "code",
   "execution_count": 8,
   "metadata": {},
   "outputs": [
    {
     "name": "stdout",
     "output_type": "stream",
     "text": [
      "# of records before dropping duplicates: 4453\n",
      "# of records after dropping duplicates: 3089\n"
     ]
    }
   ],
   "source": [
    "print(f\"# of records before dropping duplicates: {size_before}\")\n",
    "print(f\"# of records after dropping duplicates: {size_after}\")"
   ]
  },
  {
   "cell_type": "markdown",
   "metadata": {},
   "source": [
    "## Remove newline characters\n",
    "\n",
    "We will also remove other strange characters that add no additional information."
   ]
  },
  {
   "cell_type": "code",
   "execution_count": 9,
   "metadata": {},
   "outputs": [
    {
     "name": "stderr",
     "output_type": "stream",
     "text": [
      "/tmp/ipykernel_12043/2193123481.py:1: FutureWarning: The default value of regex will change from True to False in a future version.\n",
      "  mumin_df.cleaned_text = mumin_df.cleaned_text.str.replace(\"(\\n|\\r|\\|)\", \"\")\n"
     ]
    },
    {
     "data": {
      "text/plain": [
       "['virus corona bertahan di tenggorokan selama tiga hingga empat hari sebelum masuk ke paru-paru.ia juga mengeluh batuk dan berdahak.dalam situasi seperti itu, jika kumur dilakukan dengan menambahkan garam ke air panas ...dan jika lemon dikonsumsi maka penyakit ini bisa dihindari.dan banyak nyawa bisa diselamatkan.️👋🌷🌹💐🌴 https://t.co/uoilydci6a',\n",
       " 'sebelum mencapai paru-paru, itu berlangsung 4 hari di tenggorokan, di mana orang yang terinfeksi mulai batuk dan sakit tenggorokan. mereka harus banyak minum air putih dan berkumur dengan air hangat dengan garam atau cuka, ini akan menghilangkan retweet coronavirus karena bisa menyelamatkan seseorang. https://t.co/z7eudqcalj',\n",
       " 'kabar baik! vaksin virus corona sudah siap. kemampuan untuk menyembuhkan pasien dalam waktu 3 jam setelah injeksi. angkat topi untuk para ilmuwan as. trump baru saja mengumumkan bahwa roche medical company akan merilis vaksin minggu depan dan jutaan dosis darinya https://t.co/zyx4rzhs3h',\n",
       " 'kabar baik! vaksin virus carona sudah siap. mampu menyembuhkan pasien dalam waktu 3 jam setelah injeksi. angkat topi untuk ilmuwan as.saat ini trump mengumumkan bahwa roche medical company akan meluncurkan vaksin pada hari minggu depan, dan jutaan dosis sudah siap dari itu !!!via: @wajih79273180 https://t.co/bzjcltwuxq',\n",
       " 'terbaru  finlandia mengkonfirmasi kasus penularan pertama dengan coronavirus https://t.co/dxrgaj9jjj']"
      ]
     },
     "execution_count": 9,
     "metadata": {},
     "output_type": "execute_result"
    }
   ],
   "source": [
    "mumin_df.cleaned_text = mumin_df.cleaned_text.str.replace(\"(\\n|\\r|\\|)\", \"\")\n",
    "mumin_df.cleaned_text.head().to_list()"
   ]
  },
  {
   "cell_type": "markdown",
   "metadata": {},
   "source": [
    "## Remove excess whitespace"
   ]
  },
  {
   "cell_type": "code",
   "execution_count": 10,
   "metadata": {},
   "outputs": [
    {
     "name": "stderr",
     "output_type": "stream",
     "text": [
      "/tmp/ipykernel_12043/933364457.py:1: FutureWarning: The default value of regex will change from True to False in a future version.\n",
      "  mumin_df.cleaned_text = mumin_df.cleaned_text.str.replace(\"\\s+\", \" \")\n"
     ]
    },
    {
     "data": {
      "text/plain": [
       "['virus corona bertahan di tenggorokan selama tiga hingga empat hari sebelum masuk ke paru-paru.ia juga mengeluh batuk dan berdahak.dalam situasi seperti itu, jika kumur dilakukan dengan menambahkan garam ke air panas ...dan jika lemon dikonsumsi maka penyakit ini bisa dihindari.dan banyak nyawa bisa diselamatkan.️👋🌷🌹💐🌴 https://t.co/uoilydci6a',\n",
       " 'sebelum mencapai paru-paru, itu berlangsung 4 hari di tenggorokan, di mana orang yang terinfeksi mulai batuk dan sakit tenggorokan. mereka harus banyak minum air putih dan berkumur dengan air hangat dengan garam atau cuka, ini akan menghilangkan retweet coronavirus karena bisa menyelamatkan seseorang. https://t.co/z7eudqcalj',\n",
       " 'kabar baik! vaksin virus corona sudah siap. kemampuan untuk menyembuhkan pasien dalam waktu 3 jam setelah injeksi. angkat topi untuk para ilmuwan as. trump baru saja mengumumkan bahwa roche medical company akan merilis vaksin minggu depan dan jutaan dosis darinya https://t.co/zyx4rzhs3h',\n",
       " 'kabar baik! vaksin virus carona sudah siap. mampu menyembuhkan pasien dalam waktu 3 jam setelah injeksi. angkat topi untuk ilmuwan as.saat ini trump mengumumkan bahwa roche medical company akan meluncurkan vaksin pada hari minggu depan, dan jutaan dosis sudah siap dari itu !!!via: @wajih79273180 https://t.co/bzjcltwuxq',\n",
       " 'terbaru finlandia mengkonfirmasi kasus penularan pertama dengan coronavirus https://t.co/dxrgaj9jjj']"
      ]
     },
     "execution_count": 10,
     "metadata": {},
     "output_type": "execute_result"
    }
   ],
   "source": [
    "mumin_df.cleaned_text = mumin_df.cleaned_text.str.replace(\"\\s+\", \" \")\n",
    "mumin_df.cleaned_text.head().to_list()"
   ]
  },
  {
   "cell_type": "markdown",
   "metadata": {},
   "source": [
    "## Encode labels\n",
    "\n",
    "Here we encode the labels in the following way:\n",
    "\n",
    "- `misinformation`: 1\n",
    "- `factual`: 0"
   ]
  },
  {
   "cell_type": "code",
   "execution_count": 11,
   "metadata": {},
   "outputs": [],
   "source": [
    "encodings = {\"misinformation\": 1, \"factual\": 0}\n",
    "mumin_df.label.replace(to_replace=encodings, inplace=True)"
   ]
  },
  {
   "cell_type": "code",
   "execution_count": 12,
   "metadata": {},
   "outputs": [
    {
     "data": {
      "text/plain": [
       "1    2934\n",
       "0     155\n",
       "Name: label, dtype: int64"
      ]
     },
     "execution_count": 12,
     "metadata": {},
     "output_type": "execute_result"
    }
   ],
   "source": [
    "mumin_df.label.value_counts()"
   ]
  },
  {
   "cell_type": "markdown",
   "metadata": {},
   "source": [
    "## Pre-processing for IndoBERT\n",
    "\n",
    "Here we do the following:\n",
    "\n",
    "- Remove emojis\n",
    "- Replace Tweet artifacts with generic tokens"
   ]
  },
  {
   "cell_type": "code",
   "execution_count": 13,
   "metadata": {},
   "outputs": [
    {
     "name": "stderr",
     "output_type": "stream",
     "text": [
      "/tmp/ipykernel_12043/1546051008.py:8: FutureWarning: The default value of regex will change from True to False in a future version.\n",
      "  mumin_df.cleaned_text_ib = mumin_df.cleaned_text_ib.str.replace(\"(?:@)\\S+\", \"<user>\")\n",
      "/tmp/ipykernel_12043/1546051008.py:11: FutureWarning: The default value of regex will change from True to False in a future version.\n",
      "  mumin_df.cleaned_text_ib = mumin_df.cleaned_text_ib.str.replace(\"(?:https?://)\\S+\", \"<links>\")\n"
     ]
    }
   ],
   "source": [
    "# Create separate dataset for indoBERT text\n",
    "mumin_df[\"cleaned_text_ib\"] = mumin_df[\"cleaned_text\"]\n",
    "\n",
    "# Remove emojis\n",
    "mumin_df.cleaned_text_ib = mumin_df.cleaned_text_ib.str.encode(\"ascii\", \"ignore\").str.decode(\"utf_8\", \"ignore\")\n",
    "\n",
    "# Replace mentions with <user>\n",
    "mumin_df.cleaned_text_ib = mumin_df.cleaned_text_ib.str.replace(\"(?:@)\\S+\", \"<user>\")\n",
    "\n",
    "# Replace URLS with <links>\n",
    "mumin_df.cleaned_text_ib = mumin_df.cleaned_text_ib.str.replace(\"(?:https?://)\\S+\", \"<links>\")"
   ]
  },
  {
   "cell_type": "code",
   "execution_count": 14,
   "metadata": {},
   "outputs": [],
   "source": [
    "# Write this to a csv file\n",
    "data_file = \"mumin_medium-id_trans-indobert_hashtags.csv\"\n",
    "cols_to_write = [\"cleaned_text_ib\", \"label\", \"lang\"]\n",
    "mumin_df.reindex(columns=cols_to_write).to_csv(data_dir.joinpath(data_file), index=False)"
   ]
  },
  {
   "cell_type": "markdown",
   "metadata": {},
   "source": [
    "We'll also create a separate dataset that replaces the hastags with the `<hashtag>` token."
   ]
  },
  {
   "cell_type": "code",
   "execution_count": 15,
   "metadata": {},
   "outputs": [
    {
     "name": "stderr",
     "output_type": "stream",
     "text": [
      "/tmp/ipykernel_12043/2891742849.py:2: FutureWarning: The default value of regex will change from True to False in a future version.\n",
      "  mumin_df.cleaned_text_ib = mumin_df.cleaned_text_ib.str.replace(\"(?:#)\\S+\", \"<hashtag>\")\n"
     ]
    }
   ],
   "source": [
    "# Replace hashtags with <hashtag>\n",
    "mumin_df.cleaned_text_ib = mumin_df.cleaned_text_ib.str.replace(\"(?:#)\\S+\", \"<hashtag>\")"
   ]
  },
  {
   "cell_type": "code",
   "execution_count": 16,
   "metadata": {},
   "outputs": [],
   "source": [
    "# Write this to a csv file\n",
    "data_file = \"mumin_medium-id_trans-indobert_no_hashtags.csv\"\n",
    "mumin_df.reindex(columns=cols_to_write).to_csv(data_dir.joinpath(data_file), index=False)"
   ]
  },
  {
   "cell_type": "markdown",
   "metadata": {},
   "source": [
    "## Pre-processing for IndoBERTweet\n",
    "\n",
    "Here we do the following:\n",
    "\n",
    "- Convert user mentions and URLs to `@USER` and `HTTPURL` respectively.\n",
    "- Convert emojis to their text representations using the `emoji` package."
   ]
  },
  {
   "cell_type": "code",
   "execution_count": 17,
   "metadata": {},
   "outputs": [
    {
     "name": "stderr",
     "output_type": "stream",
     "text": [
      "/tmp/ipykernel_12043/3062403972.py:7: FutureWarning: The default value of regex will change from True to False in a future version.\n",
      "  mumin_df.cleaned_text_ibt = mumin_df.cleaned_text_ibt.str.replace(\"(?:@)\\S+\", \"@USER\")\n",
      "/tmp/ipykernel_12043/3062403972.py:10: FutureWarning: The default value of regex will change from True to False in a future version.\n",
      "  mumin_df.cleaned_text_ibt = mumin_df.cleaned_text_ibt.str.replace(\"(?:https?://)\\S+\", \"HTTPURL\")\n"
     ]
    }
   ],
   "source": [
    "import emoji\n",
    "\n",
    "# Create separate column for IndoBERTweet dataset\n",
    "mumin_df[\"cleaned_text_ibt\"] = mumin_df[\"cleaned_text\"]\n",
    "\n",
    "# Replace mentions with the token @USER\n",
    "mumin_df.cleaned_text_ibt = mumin_df.cleaned_text_ibt.str.replace(\"(?:@)\\S+\", \"@USER\")\n",
    "\n",
    "# Replace URLs with the token HTTPSURL\n",
    "mumin_df.cleaned_text_ibt = mumin_df.cleaned_text_ibt.str.replace(\"(?:https?://)\\S+\", \"HTTPURL\")\n",
    "\n",
    "# Convert emojis to their text representations using the emoji package\n",
    "mumin_df.cleaned_text_ibt = mumin_df.cleaned_text_ibt.apply(emoji.demojize)"
   ]
  },
  {
   "cell_type": "code",
   "execution_count": 18,
   "metadata": {},
   "outputs": [],
   "source": [
    "# Write this to a csv file\n",
    "data_file = \"mumin_medium-id_trans-indobertweet.csv\"\n",
    "cols_to_write = [\"cleaned_text_ibt\", \"label\", \"lang\"]\n",
    "mumin_df.reindex(columns=cols_to_write).to_csv(data_dir.joinpath(data_file), index=False)"
   ]
  }
 ],
 "metadata": {
  "kernelspec": {
   "display_name": "Python 3.10.4 ('ml-general')",
   "language": "python",
   "name": "python3"
  },
  "language_info": {
   "codemirror_mode": {
    "name": "ipython",
    "version": 3
   },
   "file_extension": ".py",
   "mimetype": "text/x-python",
   "name": "python",
   "nbconvert_exporter": "python",
   "pygments_lexer": "ipython3",
   "version": "3.10.4"
  },
  "orig_nbformat": 4,
  "vscode": {
   "interpreter": {
    "hash": "5601624226c7fabf755c65c27496246b0957db3b04a656cd3f1a6ab210a58a54"
   }
  }
 },
 "nbformat": 4,
 "nbformat_minor": 2
}
