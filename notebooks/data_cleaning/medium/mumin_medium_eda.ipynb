{
 "cells": [
  {
   "cell_type": "markdown",
   "id": "36a109b5-2c9d-441d-8e46-8c3a82bfa525",
   "metadata": {},
   "source": [
    "# Load data"
   ]
  },
  {
   "cell_type": "code",
   "execution_count": 1,
   "id": "905eba17-ee99-4ed2-8435-63d3db1ce21d",
   "metadata": {},
   "outputs": [
    {
     "name": "stderr",
     "output_type": "stream",
     "text": [
      "/mnt/e/School Stuff/s2_uii/tesis/proposal/data/_build/pip_packages/lib/python3.10/site-packages/tqdm/auto.py:22: TqdmWarning: IProgress not found. Please update jupyter and ipywidgets. See https://ipywidgets.readthedocs.io/en/stable/user_install.html\n",
      "  from .autonotebook import tqdm as notebook_tqdm\n"
     ]
    },
    {
     "data": {
      "text/plain": [
       "MuminDataset(size=medium, compiled=False, bearer_token_available=True)"
      ]
     },
     "execution_count": 1,
     "metadata": {},
     "output_type": "execute_result"
    }
   ],
   "source": [
    "from pathlib import Path\n",
    "from mumin import MuminDataset\n",
    "\n",
    "twitter_bearer_token = \"AAAAAAAAAAAAAAAAAAAAAPhBdwEAAAAA8960MaR6BTtd9CDUHrfi2uaxYpU%3DrCAua60sKetPNDXBJjOg0plfXrQiw54We4OLTuI7gcMkHwuXZY\"\n",
    "size=\"medium\"\n",
    "dataset_file = f\"mumin-{size}_no-images.zip\"\n",
    "dataset_path = Path(\"../../data\") / dataset_file\n",
    "include_tweet_images = False\n",
    "dataset = MuminDataset(twitter_bearer_token=twitter_bearer_token, size=size, include_tweet_images=include_tweet_images, dataset_path=dataset_path)\n",
    "dataset"
   ]
  },
  {
   "cell_type": "code",
   "execution_count": 2,
   "id": "160f3908-b26a-463d-adc6-3c12911b6a0f",
   "metadata": {},
   "outputs": [
    {
     "name": "stderr",
     "output_type": "stream",
     "text": [
      "2022-07-01 13:36:53,511 [INFO] Loading dataset\n"
     ]
    },
    {
     "data": {
      "text/plain": [
       "MuminDataset(num_nodes=805,586, num_relations=1,061,640, size='medium', compiled=True, bearer_token_available=True)"
      ]
     },
     "execution_count": 2,
     "metadata": {},
     "output_type": "execute_result"
    }
   ],
   "source": [
    "dataset.compile()"
   ]
  },
  {
   "cell_type": "markdown",
   "id": "a8097b46-e6a6-49fe-b32f-bc3311c011fb",
   "metadata": {},
   "source": [
    "# Get Tweets"
   ]
  },
  {
   "cell_type": "code",
   "execution_count": 3,
   "id": "0e51c0d9-0942-4230-b41d-40930f9b328c",
   "metadata": {},
   "outputs": [
    {
     "data": {
      "text/html": [
       "<div>\n",
       "<style scoped>\n",
       "    .dataframe tbody tr th:only-of-type {\n",
       "        vertical-align: middle;\n",
       "    }\n",
       "\n",
       "    .dataframe tbody tr th {\n",
       "        vertical-align: top;\n",
       "    }\n",
       "\n",
       "    .dataframe thead th {\n",
       "        text-align: right;\n",
       "    }\n",
       "</style>\n",
       "<table border=\"1\" class=\"dataframe\">\n",
       "  <thead>\n",
       "    <tr style=\"text-align: right;\">\n",
       "      <th></th>\n",
       "      <th>tweet_id</th>\n",
       "      <th>text</th>\n",
       "      <th>created_at</th>\n",
       "      <th>lang</th>\n",
       "      <th>source</th>\n",
       "      <th>num_retweets</th>\n",
       "      <th>num_replies</th>\n",
       "      <th>num_quote_tweets</th>\n",
       "    </tr>\n",
       "  </thead>\n",
       "  <tbody>\n",
       "    <tr>\n",
       "      <th>0</th>\n",
       "      <td>1238795119572049920</td>\n",
       "      <td>कॉरोना वायरस फेफड़ों में जाने से पहले तीन-चार ...</td>\n",
       "      <td>2020-03-14 11:52:26</td>\n",
       "      <td>hi</td>\n",
       "      <td>Twitter for Android</td>\n",
       "      <td>6</td>\n",
       "      <td>0</td>\n",
       "      <td>1</td>\n",
       "    </tr>\n",
       "    <tr>\n",
       "      <th>1</th>\n",
       "      <td>1238947475471454220</td>\n",
       "      <td>Antes de llegar a los pulmones dura 4 días en ...</td>\n",
       "      <td>2020-03-14 21:57:51</td>\n",
       "      <td>es</td>\n",
       "      <td>Twitter for Android</td>\n",
       "      <td>8</td>\n",
       "      <td>3</td>\n",
       "      <td>0</td>\n",
       "    </tr>\n",
       "    <tr>\n",
       "      <th>2</th>\n",
       "      <td>1295062953000042496</td>\n",
       "      <td>Aeroporto de Dubai em chamas. 🤕😧 https://t.co/...</td>\n",
       "      <td>2020-08-16 18:20:43</td>\n",
       "      <td>pt</td>\n",
       "      <td>Twitter for Android</td>\n",
       "      <td>6</td>\n",
       "      <td>0</td>\n",
       "      <td>5</td>\n",
       "    </tr>\n",
       "    <tr>\n",
       "      <th>3</th>\n",
       "      <td>1294614020008312832</td>\n",
       "      <td>Fogo 🔥 no aeroporto de Dubai 😱😱 https://t.co/2...</td>\n",
       "      <td>2020-08-15 12:36:49</td>\n",
       "      <td>pt</td>\n",
       "      <td>Twitter for Android</td>\n",
       "      <td>24</td>\n",
       "      <td>11</td>\n",
       "      <td>7</td>\n",
       "    </tr>\n",
       "    <tr>\n",
       "      <th>4</th>\n",
       "      <td>1294701863489744896</td>\n",
       "      <td>Fogo no aeroporto de Dubai. https://t.co/yhQDe...</td>\n",
       "      <td>2020-08-15 18:25:53</td>\n",
       "      <td>pt</td>\n",
       "      <td>Twitter for Android</td>\n",
       "      <td>14</td>\n",
       "      <td>7</td>\n",
       "      <td>4</td>\n",
       "    </tr>\n",
       "  </tbody>\n",
       "</table>\n",
       "</div>"
      ],
      "text/plain": [
       "              tweet_id                                               text  \\\n",
       "0  1238795119572049920  कॉरोना वायरस फेफड़ों में जाने से पहले तीन-चार ...   \n",
       "1  1238947475471454220  Antes de llegar a los pulmones dura 4 días en ...   \n",
       "2  1295062953000042496  Aeroporto de Dubai em chamas. 🤕😧 https://t.co/...   \n",
       "3  1294614020008312832  Fogo 🔥 no aeroporto de Dubai 😱😱 https://t.co/2...   \n",
       "4  1294701863489744896  Fogo no aeroporto de Dubai. https://t.co/yhQDe...   \n",
       "\n",
       "           created_at lang               source  num_retweets  num_replies  \\\n",
       "0 2020-03-14 11:52:26   hi  Twitter for Android             6            0   \n",
       "1 2020-03-14 21:57:51   es  Twitter for Android             8            3   \n",
       "2 2020-08-16 18:20:43   pt  Twitter for Android             6            0   \n",
       "3 2020-08-15 12:36:49   pt  Twitter for Android            24           11   \n",
       "4 2020-08-15 18:25:53   pt  Twitter for Android            14            7   \n",
       "\n",
       "   num_quote_tweets  \n",
       "0                 1  \n",
       "1                 0  \n",
       "2                 5  \n",
       "3                 7  \n",
       "4                 4  "
      ]
     },
     "execution_count": 3,
     "metadata": {},
     "output_type": "execute_result"
    }
   ],
   "source": [
    "tweet_df = dataset.nodes[\"tweet\"]\n",
    "tweet_df.dropna(inplace=True)\n",
    "tweet_df.head()"
   ]
  },
  {
   "cell_type": "code",
   "execution_count": 4,
   "id": "2f145ec5-3153-4230-ac11-883efd218944",
   "metadata": {},
   "outputs": [
    {
     "name": "stdout",
     "output_type": "stream",
     "text": [
      "<class 'pandas.core.frame.DataFrame'>\n",
      "Int64Index: 10134 entries, 0 to 10133\n",
      "Data columns (total 8 columns):\n",
      " #   Column            Non-Null Count  Dtype         \n",
      "---  ------            --------------  -----         \n",
      " 0   tweet_id          10134 non-null  uint64        \n",
      " 1   text              10134 non-null  object        \n",
      " 2   created_at        10134 non-null  datetime64[ns]\n",
      " 3   lang              10134 non-null  category      \n",
      " 4   source            10134 non-null  object        \n",
      " 5   num_retweets      10134 non-null  uint64        \n",
      " 6   num_replies       10134 non-null  uint64        \n",
      " 7   num_quote_tweets  10134 non-null  uint64        \n",
      "dtypes: category(1), datetime64[ns](1), object(2), uint64(4)\n",
      "memory usage: 643.6+ KB\n"
     ]
    }
   ],
   "source": [
    "tweet_df.info()"
   ]
  },
  {
   "cell_type": "code",
   "execution_count": 5,
   "id": "94e3f2fb-06c7-4910-b0c5-192d784e63ec",
   "metadata": {},
   "outputs": [
    {
     "data": {
      "text/plain": [
       "47"
      ]
     },
     "execution_count": 5,
     "metadata": {},
     "output_type": "execute_result"
    }
   ],
   "source": [
    "tweet_df.lang.unique().size"
   ]
  },
  {
   "cell_type": "code",
   "execution_count": 6,
   "id": "c633290a-1d65-446e-9b2b-41d6596a61c5",
   "metadata": {},
   "outputs": [
    {
     "data": {
      "text/plain": [
       "False"
      ]
     },
     "execution_count": 6,
     "metadata": {},
     "output_type": "execute_result"
    }
   ],
   "source": [
    "\"id\" in tweet_df.lang.unique()"
   ]
  },
  {
   "cell_type": "markdown",
   "id": "03bf3d45-8071-473e-9b23-cbcca81ef17d",
   "metadata": {},
   "source": [
    "# Get claims"
   ]
  },
  {
   "cell_type": "code",
   "execution_count": 7,
   "id": "c38ca2e3-88d0-43f2-b593-6c592c706f31",
   "metadata": {},
   "outputs": [],
   "source": [
    "claim_df = dataset.nodes['claim']"
   ]
  },
  {
   "cell_type": "code",
   "execution_count": 8,
   "id": "8c7f22ca-6fc2-44d6-9de6-e38975e26417",
   "metadata": {},
   "outputs": [
    {
     "name": "stdout",
     "output_type": "stream",
     "text": [
      "<class 'pandas.core.frame.DataFrame'>\n",
      "RangeIndex: 5537 entries, 0 to 5536\n",
      "Data columns (total 11 columns):\n",
      " #   Column            Non-Null Count  Dtype         \n",
      "---  ------            --------------  -----         \n",
      " 0   embedding         5537 non-null   object        \n",
      " 1   label             5537 non-null   category      \n",
      " 2   reviewers         5537 non-null   object        \n",
      " 3   date              5537 non-null   datetime64[ns]\n",
      " 4   language          5537 non-null   category      \n",
      " 5   keywords          5537 non-null   object        \n",
      " 6   cluster_keywords  5537 non-null   category      \n",
      " 7   cluster           5537 non-null   category      \n",
      " 8   train_mask        5537 non-null   bool          \n",
      " 9   val_mask          5537 non-null   bool          \n",
      " 10  test_mask         5537 non-null   bool          \n",
      "dtypes: bool(3), category(4), datetime64[ns](1), object(3)\n",
      "memory usage: 211.7+ KB\n"
     ]
    }
   ],
   "source": [
    "claim_df.info()"
   ]
  },
  {
   "cell_type": "code",
   "execution_count": 9,
   "id": "e71ffa43-236b-446c-8235-262bfa48cc5b",
   "metadata": {},
   "outputs": [
    {
     "data": {
      "text/plain": [
       "37"
      ]
     },
     "execution_count": 9,
     "metadata": {},
     "output_type": "execute_result"
    }
   ],
   "source": [
    "claim_df.language.unique().size"
   ]
  },
  {
   "cell_type": "code",
   "execution_count": 17,
   "id": "73af7d6a-8d7b-443f-9fff-f936a03edca7",
   "metadata": {},
   "outputs": [
    {
     "data": {
      "text/plain": [
       "True"
      ]
     },
     "execution_count": 17,
     "metadata": {},
     "output_type": "execute_result"
    }
   ],
   "source": [
    "\"id\" in claim_df.language.unique()"
   ]
  },
  {
   "cell_type": "code",
   "execution_count": 10,
   "id": "4e431de1-7b5b-4926-be6b-17e1e8dc806c",
   "metadata": {},
   "outputs": [
    {
     "data": {
      "text/plain": [
       "(113, 11)"
      ]
     },
     "execution_count": 10,
     "metadata": {},
     "output_type": "execute_result"
    }
   ],
   "source": [
    "id_claims_df = claim_df.loc[claim_df.language == 'id', :]\n",
    "id_claims_df.shape"
   ]
  },
  {
   "cell_type": "code",
   "execution_count": 11,
   "id": "bfada620-5cfc-4423-820b-2b5786b23d0c",
   "metadata": {},
   "outputs": [
    {
     "data": {
      "text/html": [
       "<div>\n",
       "<style scoped>\n",
       "    .dataframe tbody tr th:only-of-type {\n",
       "        vertical-align: middle;\n",
       "    }\n",
       "\n",
       "    .dataframe tbody tr th {\n",
       "        vertical-align: top;\n",
       "    }\n",
       "\n",
       "    .dataframe thead th {\n",
       "        text-align: right;\n",
       "    }\n",
       "</style>\n",
       "<table border=\"1\" class=\"dataframe\">\n",
       "  <thead>\n",
       "    <tr style=\"text-align: right;\">\n",
       "      <th></th>\n",
       "      <th>embedding</th>\n",
       "      <th>label</th>\n",
       "      <th>reviewers</th>\n",
       "      <th>date</th>\n",
       "      <th>language</th>\n",
       "      <th>keywords</th>\n",
       "      <th>cluster_keywords</th>\n",
       "      <th>cluster</th>\n",
       "      <th>train_mask</th>\n",
       "      <th>val_mask</th>\n",
       "      <th>test_mask</th>\n",
       "    </tr>\n",
       "  </thead>\n",
       "  <tbody>\n",
       "    <tr>\n",
       "      <th>149</th>\n",
       "      <td>[-0.025578876957297325, 0.09601052105426788, -...</td>\n",
       "      <td>misinformation</td>\n",
       "      <td>[periksafakta.afp.com]</td>\n",
       "      <td>2020-07-18</td>\n",
       "      <td>id</td>\n",
       "      <td>google apple remove palestine maps</td>\n",
       "      <td></td>\n",
       "      <td>-1</td>\n",
       "      <td>True</td>\n",
       "      <td>False</td>\n",
       "      <td>False</td>\n",
       "    </tr>\n",
       "    <tr>\n",
       "      <th>152</th>\n",
       "      <td>[-0.012159052304923534, 0.10657747834920883, -...</td>\n",
       "      <td>misinformation</td>\n",
       "      <td>[cekfakta.tempo.co]</td>\n",
       "      <td>2020-07-18</td>\n",
       "      <td>id</td>\n",
       "      <td>palestine removed google maps</td>\n",
       "      <td></td>\n",
       "      <td>-1</td>\n",
       "      <td>True</td>\n",
       "      <td>False</td>\n",
       "      <td>False</td>\n",
       "    </tr>\n",
       "    <tr>\n",
       "      <th>261</th>\n",
       "      <td>[-0.09456656873226166, 0.061107587069272995, 0...</td>\n",
       "      <td>misinformation</td>\n",
       "      <td>[cekfakta.com]</td>\n",
       "      <td>2021-03-08</td>\n",
       "      <td>id</td>\n",
       "      <td>people died covid 19 vaccine</td>\n",
       "      <td>coronavirus china covid 19 treatments recommended</td>\n",
       "      <td>0</td>\n",
       "      <td>True</td>\n",
       "      <td>False</td>\n",
       "      <td>False</td>\n",
       "    </tr>\n",
       "    <tr>\n",
       "      <th>308</th>\n",
       "      <td>[-0.0038227590266615152, 0.15168921649456024, ...</td>\n",
       "      <td>misinformation</td>\n",
       "      <td>[cekfakta.com]</td>\n",
       "      <td>2020-03-17</td>\n",
       "      <td>id</td>\n",
       "      <td>ronaldo turns hotel corona hospital</td>\n",
       "      <td></td>\n",
       "      <td>-1</td>\n",
       "      <td>True</td>\n",
       "      <td>False</td>\n",
       "      <td>False</td>\n",
       "    </tr>\n",
       "    <tr>\n",
       "      <th>407</th>\n",
       "      <td>[-0.06622577458620071, 0.06714311987161636, -0...</td>\n",
       "      <td>misinformation</td>\n",
       "      <td>[cekfakta.com]</td>\n",
       "      <td>2021-02-15</td>\n",
       "      <td>id</td>\n",
       "      <td>rihanna holding national flag pakistan</td>\n",
       "      <td></td>\n",
       "      <td>-1</td>\n",
       "      <td>True</td>\n",
       "      <td>False</td>\n",
       "      <td>False</td>\n",
       "    </tr>\n",
       "  </tbody>\n",
       "</table>\n",
       "</div>"
      ],
      "text/plain": [
       "                                             embedding           label  \\\n",
       "149  [-0.025578876957297325, 0.09601052105426788, -...  misinformation   \n",
       "152  [-0.012159052304923534, 0.10657747834920883, -...  misinformation   \n",
       "261  [-0.09456656873226166, 0.061107587069272995, 0...  misinformation   \n",
       "308  [-0.0038227590266615152, 0.15168921649456024, ...  misinformation   \n",
       "407  [-0.06622577458620071, 0.06714311987161636, -0...  misinformation   \n",
       "\n",
       "                  reviewers       date language  \\\n",
       "149  [periksafakta.afp.com] 2020-07-18       id   \n",
       "152     [cekfakta.tempo.co] 2020-07-18       id   \n",
       "261          [cekfakta.com] 2021-03-08       id   \n",
       "308          [cekfakta.com] 2020-03-17       id   \n",
       "407          [cekfakta.com] 2021-02-15       id   \n",
       "\n",
       "                                   keywords  \\\n",
       "149      google apple remove palestine maps   \n",
       "152           palestine removed google maps   \n",
       "261            people died covid 19 vaccine   \n",
       "308     ronaldo turns hotel corona hospital   \n",
       "407  rihanna holding national flag pakistan   \n",
       "\n",
       "                                      cluster_keywords cluster  train_mask  \\\n",
       "149                                                         -1        True   \n",
       "152                                                         -1        True   \n",
       "261  coronavirus china covid 19 treatments recommended       0        True   \n",
       "308                                                         -1        True   \n",
       "407                                                         -1        True   \n",
       "\n",
       "     val_mask  test_mask  \n",
       "149     False      False  \n",
       "152     False      False  \n",
       "261     False      False  \n",
       "308     False      False  \n",
       "407     False      False  "
      ]
     },
     "execution_count": 11,
     "metadata": {},
     "output_type": "execute_result"
    }
   ],
   "source": [
    "id_claims_df.head()"
   ]
  }
 ],
 "metadata": {
  "kernelspec": {
   "display_name": "Python 3.9.12 64-bit (system)",
   "language": "python",
   "name": "python3"
  },
  "language_info": {
   "codemirror_mode": {
    "name": "ipython",
    "version": 3
   },
   "file_extension": ".py",
   "mimetype": "text/x-python",
   "name": "python",
   "nbconvert_exporter": "python",
   "pygments_lexer": "ipython3",
   "version": "3.9.12"
  },
  "vscode": {
   "interpreter": {
    "hash": "7b8ee9be45c5c91014821d12c4a0f53a54ab315f331d75219e2b72ba24965152"
   }
  }
 },
 "nbformat": 4,
 "nbformat_minor": 5
}
