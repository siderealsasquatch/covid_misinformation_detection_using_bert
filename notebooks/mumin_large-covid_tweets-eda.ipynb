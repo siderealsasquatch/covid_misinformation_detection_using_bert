{
 "cells": [
  {
   "cell_type": "markdown",
   "metadata": {},
   "source": [
    "# MuMiN Large Translated COVID-19 Tweets EDA\n",
    "\n",
    "Here we perform some basic EDA on the translated and cleaned COVID-19 Tweets prior to training just to get a better idea of what we're working with. Make sure to compare the cleaned MuMiN large Tweets to the cleaned MuMiN medium Tweets."
   ]
  },
  {
   "cell_type": "code",
   "execution_count": 6,
   "metadata": {},
   "outputs": [],
   "source": [
    "from pathlib import Path\n",
    "import warnings\n",
    "import pandas as pd\n",
    "import numpy as np\n",
    "import matplotlib.pyplot as plt\n",
    "import seaborn as sns\n",
    "\n",
    "# Ignore all warnings\n",
    "# warnings.simplefilter(\"ignore\")\n",
    "warnings.filterwarnings(\"ignore\")\n",
    "\n",
    "# Load data\n",
    "data_dir = Path(\"data\")\n",
    "data_file = \"mumin_large-trans-indobert_hashtags.csv\"\n",
    "new_column_names = {\"cleaned_text_ib\": \"text\"}\n",
    "mumin_df = pd.read_csv(data_dir.joinpath(data_file)).rename(columns=new_column_names)"
   ]
  },
  {
   "cell_type": "code",
   "execution_count": 7,
   "metadata": {},
   "outputs": [
    {
     "name": "stdout",
     "output_type": "stream",
     "text": [
      "<class 'pandas.core.frame.DataFrame'>\n",
      "RangeIndex: 9302 entries, 0 to 9301\n",
      "Data columns (total 3 columns):\n",
      " #   Column  Non-Null Count  Dtype \n",
      "---  ------  --------------  ----- \n",
      " 0   text    9302 non-null   object\n",
      " 1   label   9302 non-null   int64 \n",
      " 2   lang    9302 non-null   object\n",
      "dtypes: int64(1), object(2)\n",
      "memory usage: 218.1+ KB\n"
     ]
    }
   ],
   "source": [
    "mumin_df.info()"
   ]
  },
  {
   "cell_type": "code",
   "execution_count": 8,
   "metadata": {},
   "outputs": [
    {
     "data": {
      "text/html": [
       "<div>\n",
       "<style scoped>\n",
       "    .dataframe tbody tr th:only-of-type {\n",
       "        vertical-align: middle;\n",
       "    }\n",
       "\n",
       "    .dataframe tbody tr th {\n",
       "        vertical-align: top;\n",
       "    }\n",
       "\n",
       "    .dataframe thead th {\n",
       "        text-align: right;\n",
       "    }\n",
       "</style>\n",
       "<table border=\"1\" class=\"dataframe\">\n",
       "  <thead>\n",
       "    <tr style=\"text-align: right;\">\n",
       "      <th></th>\n",
       "      <th>text</th>\n",
       "      <th>label</th>\n",
       "      <th>lang</th>\n",
       "    </tr>\n",
       "  </thead>\n",
       "  <tbody>\n",
       "    <tr>\n",
       "      <th>0</th>\n",
       "      <td>untuk menjaga kesehatan saluran pernapasan ata...</td>\n",
       "      <td>1</td>\n",
       "      <td>en</td>\n",
       "    </tr>\n",
       "    <tr>\n",
       "      <th>1</th>\n",
       "      <td>berkumur air garam tidak 'membunuh' virus coro...</td>\n",
       "      <td>1</td>\n",
       "      <td>en</td>\n",
       "    </tr>\n",
       "    <tr>\n",
       "      <th>2</th>\n",
       "      <td>virus corona bertahan di tenggorokan selama ti...</td>\n",
       "      <td>1</td>\n",
       "      <td>hi</td>\n",
       "    </tr>\n",
       "    <tr>\n",
       "      <th>3</th>\n",
       "      <td>sebelum mencapai paru-paru itu berlangsung 4 h...</td>\n",
       "      <td>1</td>\n",
       "      <td>es</td>\n",
       "    </tr>\n",
       "    <tr>\n",
       "      <th>4</th>\n",
       "      <td>jadi mereka mengatakan gejala pertama adalah #...</td>\n",
       "      <td>1</td>\n",
       "      <td>en</td>\n",
       "    </tr>\n",
       "  </tbody>\n",
       "</table>\n",
       "</div>"
      ],
      "text/plain": [
       "                                                text  label lang\n",
       "0  untuk menjaga kesehatan saluran pernapasan ata...      1   en\n",
       "1  berkumur air garam tidak 'membunuh' virus coro...      1   en\n",
       "2  virus corona bertahan di tenggorokan selama ti...      1   hi\n",
       "3  sebelum mencapai paru-paru itu berlangsung 4 h...      1   es\n",
       "4  jadi mereka mengatakan gejala pertama adalah #...      1   en"
      ]
     },
     "execution_count": 8,
     "metadata": {},
     "output_type": "execute_result"
    }
   ],
   "source": [
    "mumin_df.head()"
   ]
  },
  {
   "cell_type": "code",
   "execution_count": 17,
   "metadata": {},
   "outputs": [
    {
     "data": {
      "text/plain": [
       "count    9302.000000\n",
       "mean      168.314879\n",
       "std        75.634289\n",
       "min         7.000000\n",
       "25%       102.000000\n",
       "50%       160.000000\n",
       "75%       233.000000\n",
       "max       527.000000\n",
       "Name: text, dtype: float64"
      ]
     },
     "execution_count": 17,
     "metadata": {},
     "output_type": "execute_result"
    }
   ],
   "source": [
    "mumin_df.text.str.len().describe()"
   ]
  },
  {
   "cell_type": "code",
   "execution_count": 16,
   "metadata": {},
   "outputs": [
    {
     "data": {
      "text/plain": [
       "<seaborn.axisgrid.FacetGrid at 0x27250991c70>"
      ]
     },
     "execution_count": 16,
     "metadata": {},
     "output_type": "execute_result"
    },
    {
     "data": {
      "image/png": "[encoded data removed]",
      "text/plain": [
       "<Figure size 360x360 with 1 Axes>"
      ]
     },
     "metadata": {
      "needs_background": "light"
     },
     "output_type": "display_data"
    }
   ],
   "source": [
    "sns.displot(mumin_df.text.str.len())"
   ]
  },
  {
   "cell_type": "code",
   "execution_count": 20,
   "metadata": {},
   "outputs": [
    {
     "data": {
      "text/plain": [
       "1"
      ]
     },
     "execution_count": 20,
     "metadata": {},
     "output_type": "execute_result"
    }
   ],
   "source": [
    "(mumin_df.text.str.len() > 512).sum()"
   ]
  },
  {
   "cell_type": "code",
   "execution_count": 30,
   "metadata": {},
   "outputs": [
    {
     "data": {
      "text/plain": [
       "'atlet di olimpiade tokyo menemukan tempat tidur di desa olimpiade sesuatu yang tidak biasa: mereka terbuat dari karton. penyelenggara mengatakan bingkai tempat tidur terbuat dari bahan terbarukan. ada spekulasi di media sosial bahwa bingkai tempat tidur kardus dirancang untuk mencegah kontak dekat sebanyak mungkin, dengan produsen mengklaim bahwa mereka sebenarnya lebih kuat daripada bahan lain. dengan mendekatnya olimpiade, wabah di tokyo tetap menjadi perhatian, dan pembatasan telah diperketat di desa olimpiade. <links>'"
      ]
     },
     "execution_count": 30,
     "metadata": {},
     "output_type": "execute_result"
    }
   ],
   "source": [
    "mumin_df[mumin_df.text.str.len() > 512].text.values[0]"
   ]
  }
 ],
 "metadata": {
  "kernelspec": {
   "display_name": "Python 3.9.12 ('ml-general')",
   "language": "python",
   "name": "python3"
  },
  "language_info": {
   "codemirror_mode": {
    "name": "ipython",
    "version": 3
   },
   "file_extension": ".py",
   "mimetype": "text/x-python",
   "name": "python",
   "nbconvert_exporter": "python",
   "pygments_lexer": "ipython3",
   "version": "3.9.12"
  },
  "orig_nbformat": 4,
  "vscode": {
   "interpreter": {
    "hash": "959d5d072bd80f5e021ed6662d32feaffea6c1be8666359e462148e3819e5cf4"
   }
  }
 },
 "nbformat": 4,
 "nbformat_minor": 2
}
