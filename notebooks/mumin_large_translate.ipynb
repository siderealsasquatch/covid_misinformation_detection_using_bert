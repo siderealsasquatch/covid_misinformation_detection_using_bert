{
 "cells": [
  {
   "cell_type": "markdown",
   "id": "0607baf8-471f-4119-9ffe-cdf8627f417e",
   "metadata": {},
   "source": [
    "# Translate tweet text\n",
    "\n",
    "Here I figure out how to translate the tweet text using the `deep_translator` module."
   ]
  },
  {
   "cell_type": "code",
   "execution_count": 1,
   "id": "63aaa2e3-3463-49c8-bf9c-52aa85188c1e",
   "metadata": {},
   "outputs": [],
   "source": [
    "from pathlib import Path\n",
    "from deep_translator import GoogleTranslator\n",
    "import pandas as pd\n",
    "\n",
    "# Load data\n",
    "data_dir = Path(\"data\")\n",
    "data_file = \"mumin_large-preproc.csv\"\n",
    "mumin_df = pd.read_csv(data_dir.joinpath(data_file))"
   ]
  },
  {
   "cell_type": "markdown",
   "id": "61b7797b-332b-4a1e-af64-cc931d57d60a",
   "metadata": {},
   "source": [
    "## Perform translation"
   ]
  },
  {
   "cell_type": "code",
   "execution_count": 3,
   "id": "28a0d1bd-f83e-4134-9f6c-0be01de477f4",
   "metadata": {},
   "outputs": [],
   "source": [
    "# Define translate function\n",
    "def translate(text, src_lang, translator):\n",
    "  try:\n",
    "    if src_lang != \"id\":\n",
    "      translator.source = src_lang\n",
    "      return translator.translate(text=text)\n",
    "    else:\n",
    "      return text\n",
    "  except:\n",
    "    translator.source = \"auto\"\n",
    "    return translator.translate(text=text)"
   ]
  },
  {
   "cell_type": "code",
   "execution_count": 4,
   "id": "f360ec77-5096-423b-b759-fbafaf79568c",
   "metadata": {},
   "outputs": [],
   "source": [
    "tr = GoogleTranslator(source=\"auto\", target=\"id\")\n",
    "tr_strs_id = mumin_df.apply(lambda x: translate(x[\"text\"], x[\"lang\"], tr), axis=1)\n",
    "# tr = GoogleTranslator(source=\"auto\", target=\"en\")\n",
    "# tr_strs_en = mumin_df.apply(lambda x: translate(x[\"text\"], x[\"lang\"], tr), axis=1)"
   ]
  },
  {
   "cell_type": "code",
   "execution_count": 5,
   "id": "b0ce01ad",
   "metadata": {},
   "outputs": [
    {
     "data": {
      "text/plain": [
       "0    to keep our upper respiratory tract healthy in...\n",
       "1    gargling salt water does not 'kill' coronaviru...\n",
       "2    कॉरोना वायरस फेफड़ों में जाने से पहले तीन-चार ...\n",
       "3    antes de llegar a los pulmones dura 4 días en ...\n",
       "4    so they say the first symptons are #coughingth...\n",
       "Name: text, dtype: object"
      ]
     },
     "execution_count": 5,
     "metadata": {},
     "output_type": "execute_result"
    }
   ],
   "source": [
    "mumin_df.text[:5]"
   ]
  },
  {
   "cell_type": "code",
   "execution_count": 6,
   "id": "2a29de92",
   "metadata": {},
   "outputs": [
    {
     "data": {
      "text/plain": [
       "0    Untuk menjaga kesehatan saluran pernapasan ata...\n",
       "1    berkumur air garam tidak 'membunuh' virus coro...\n",
       "2    Virus corona bertahan di tenggorokan selama ti...\n",
       "3    sebelum mencapai paru-paru itu berlangsung 4 h...\n",
       "4    jadi mereka mengatakan gejala pertama adalah #...\n",
       "dtype: object"
      ]
     },
     "execution_count": 6,
     "metadata": {},
     "output_type": "execute_result"
    }
   ],
   "source": [
    "tr_strs_id[:5]\n",
    "# tr_strs_en[:5]"
   ]
  },
  {
   "cell_type": "markdown",
   "id": "31e9e424",
   "metadata": {},
   "source": [
    "## Add translated text and write to CSV file"
   ]
  },
  {
   "cell_type": "code",
   "execution_count": 7,
   "id": "52c8a4b3",
   "metadata": {},
   "outputs": [],
   "source": [
    "# Add translated text\n",
    "# mumin_df[\"translated_text_en\"] = tr_strs_en\n",
    "mumin_df[\"translated_text_id\"] = tr_strs_id\n",
    "\n",
    "# Write new dataset to csv file\n",
    "# outfile = \"mumin_medium-trans.csv\"\n",
    "outfile = \"mumin_large-trans.csv\"\n",
    "mumin_df[[\"text\", \"translated_text_id\", \"label\", \"lang\"]].to_csv(data_dir.joinpath(outfile), index=False)"
   ]
  }
 ],
 "metadata": {
  "kernelspec": {
   "display_name": "Python 3.9.12 ('ml-general')",
   "language": "python",
   "name": "python3"
  },
  "language_info": {
   "codemirror_mode": {
    "name": "ipython",
    "version": 3
   },
   "file_extension": ".py",
   "mimetype": "text/x-python",
   "name": "python",
   "nbconvert_exporter": "python",
   "pygments_lexer": "ipython3",
   "version": "3.9.12"
  },
  "vscode": {
   "interpreter": {
    "hash": "959d5d072bd80f5e021ed6662d32feaffea6c1be8666359e462148e3819e5cf4"
   }
  }
 },
 "nbformat": 4,
 "nbformat_minor": 5
}
